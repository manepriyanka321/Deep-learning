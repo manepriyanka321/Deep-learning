{
  "nbformat": 4,
  "nbformat_minor": 0,
  "metadata": {
    "colab": {
      "provenance": [],
      "gpuType": "T4",
      "authorship_tag": "ABX9TyM/TOyYVmXipJmXXPhemy8G",
      "include_colab_link": true
    },
    "kernelspec": {
      "name": "python3",
      "display_name": "Python 3"
    },
    "language_info": {
      "name": "python"
    },
    "accelerator": "GPU"
  },
  "cells": [
    {
      "cell_type": "markdown",
      "metadata": {
        "id": "view-in-github",
        "colab_type": "text"
      },
      "source": [
        "<a href=\"https://colab.research.google.com/github/manepriyanka321/Deep-learning/blob/main/Image_Classification_with_CNN.ipynb\" target=\"_parent\"><img src=\"https://colab.research.google.com/assets/colab-badge.svg\" alt=\"Open In Colab\"/></a>"
      ]
    },
    {
      "cell_type": "markdown",
      "source": [
        "# Image classification with CNN (Convulation Neural Network)"
      ],
      "metadata": {
        "id": "tNGPVbMEFFjp"
      }
    },
    {
      "cell_type": "code",
      "execution_count": 1,
      "metadata": {
        "id": "Ugyp2tWJFEpK"
      },
      "outputs": [],
      "source": [
        "from warnings import filterwarnings\n",
        "filterwarnings(\"ignore\")"
      ]
    },
    {
      "cell_type": "markdown",
      "source": [
        "# Step 1 : Load image dataset from keras"
      ],
      "metadata": {
        "id": "cQep1ZE_V0jt"
      }
    },
    {
      "cell_type": "code",
      "source": [
        "from keras.datasets import mnist\n",
        "(xtrain, ytrain), (xtest, ytest) = mnist.load_data()"
      ],
      "metadata": {
        "colab": {
          "base_uri": "https://localhost:8080/"
        },
        "id": "Nt-c6kp0Fa4I",
        "outputId": "f34679ff-c726-49d8-c577-fa3ac76f6693"
      },
      "execution_count": 2,
      "outputs": [
        {
          "output_type": "stream",
          "name": "stdout",
          "text": [
            "Downloading data from https://storage.googleapis.com/tensorflow/tf-keras-datasets/mnist.npz\n",
            "\u001b[1m11490434/11490434\u001b[0m \u001b[32m━━━━━━━━━━━━━━━━━━━━\u001b[0m\u001b[37m\u001b[0m \u001b[1m1s\u001b[0m 0us/step\n"
          ]
        }
      ]
    },
    {
      "cell_type": "code",
      "source": [
        "xtrain"
      ],
      "metadata": {
        "colab": {
          "base_uri": "https://localhost:8080/"
        },
        "id": "64REKrGAWLQf",
        "outputId": "f3cb4b71-5e35-4110-8c23-173716dc252f"
      },
      "execution_count": 3,
      "outputs": [
        {
          "output_type": "execute_result",
          "data": {
            "text/plain": [
              "array([[[0, 0, 0, ..., 0, 0, 0],\n",
              "        [0, 0, 0, ..., 0, 0, 0],\n",
              "        [0, 0, 0, ..., 0, 0, 0],\n",
              "        ...,\n",
              "        [0, 0, 0, ..., 0, 0, 0],\n",
              "        [0, 0, 0, ..., 0, 0, 0],\n",
              "        [0, 0, 0, ..., 0, 0, 0]],\n",
              "\n",
              "       [[0, 0, 0, ..., 0, 0, 0],\n",
              "        [0, 0, 0, ..., 0, 0, 0],\n",
              "        [0, 0, 0, ..., 0, 0, 0],\n",
              "        ...,\n",
              "        [0, 0, 0, ..., 0, 0, 0],\n",
              "        [0, 0, 0, ..., 0, 0, 0],\n",
              "        [0, 0, 0, ..., 0, 0, 0]],\n",
              "\n",
              "       [[0, 0, 0, ..., 0, 0, 0],\n",
              "        [0, 0, 0, ..., 0, 0, 0],\n",
              "        [0, 0, 0, ..., 0, 0, 0],\n",
              "        ...,\n",
              "        [0, 0, 0, ..., 0, 0, 0],\n",
              "        [0, 0, 0, ..., 0, 0, 0],\n",
              "        [0, 0, 0, ..., 0, 0, 0]],\n",
              "\n",
              "       ...,\n",
              "\n",
              "       [[0, 0, 0, ..., 0, 0, 0],\n",
              "        [0, 0, 0, ..., 0, 0, 0],\n",
              "        [0, 0, 0, ..., 0, 0, 0],\n",
              "        ...,\n",
              "        [0, 0, 0, ..., 0, 0, 0],\n",
              "        [0, 0, 0, ..., 0, 0, 0],\n",
              "        [0, 0, 0, ..., 0, 0, 0]],\n",
              "\n",
              "       [[0, 0, 0, ..., 0, 0, 0],\n",
              "        [0, 0, 0, ..., 0, 0, 0],\n",
              "        [0, 0, 0, ..., 0, 0, 0],\n",
              "        ...,\n",
              "        [0, 0, 0, ..., 0, 0, 0],\n",
              "        [0, 0, 0, ..., 0, 0, 0],\n",
              "        [0, 0, 0, ..., 0, 0, 0]],\n",
              "\n",
              "       [[0, 0, 0, ..., 0, 0, 0],\n",
              "        [0, 0, 0, ..., 0, 0, 0],\n",
              "        [0, 0, 0, ..., 0, 0, 0],\n",
              "        ...,\n",
              "        [0, 0, 0, ..., 0, 0, 0],\n",
              "        [0, 0, 0, ..., 0, 0, 0],\n",
              "        [0, 0, 0, ..., 0, 0, 0]]], dtype=uint8)"
            ]
          },
          "metadata": {},
          "execution_count": 3
        }
      ]
    },
    {
      "cell_type": "code",
      "source": [
        "xtrain.shape"
      ],
      "metadata": {
        "colab": {
          "base_uri": "https://localhost:8080/"
        },
        "id": "lvYuyr2uWNhJ",
        "outputId": "8cde1257-0d74-45b7-ef0b-771433f4a66b"
      },
      "execution_count": 4,
      "outputs": [
        {
          "output_type": "execute_result",
          "data": {
            "text/plain": [
              "(60000, 28, 28)"
            ]
          },
          "metadata": {},
          "execution_count": 4
        }
      ]
    },
    {
      "cell_type": "code",
      "source": [
        "ytrain[0:5]"
      ],
      "metadata": {
        "colab": {
          "base_uri": "https://localhost:8080/"
        },
        "id": "mVWKGVy3WP1N",
        "outputId": "f06d0746-5359-48b4-f724-0d694758366c"
      },
      "execution_count": 5,
      "outputs": [
        {
          "output_type": "execute_result",
          "data": {
            "text/plain": [
              "array([5, 0, 4, 1, 9], dtype=uint8)"
            ]
          },
          "metadata": {},
          "execution_count": 5
        }
      ]
    },
    {
      "cell_type": "code",
      "source": [
        "xtest"
      ],
      "metadata": {
        "colab": {
          "base_uri": "https://localhost:8080/"
        },
        "id": "TyqUuMEkWSML",
        "outputId": "f5e3be92-d370-4d98-e375-1c2d35187bb4"
      },
      "execution_count": 6,
      "outputs": [
        {
          "output_type": "execute_result",
          "data": {
            "text/plain": [
              "array([[[0, 0, 0, ..., 0, 0, 0],\n",
              "        [0, 0, 0, ..., 0, 0, 0],\n",
              "        [0, 0, 0, ..., 0, 0, 0],\n",
              "        ...,\n",
              "        [0, 0, 0, ..., 0, 0, 0],\n",
              "        [0, 0, 0, ..., 0, 0, 0],\n",
              "        [0, 0, 0, ..., 0, 0, 0]],\n",
              "\n",
              "       [[0, 0, 0, ..., 0, 0, 0],\n",
              "        [0, 0, 0, ..., 0, 0, 0],\n",
              "        [0, 0, 0, ..., 0, 0, 0],\n",
              "        ...,\n",
              "        [0, 0, 0, ..., 0, 0, 0],\n",
              "        [0, 0, 0, ..., 0, 0, 0],\n",
              "        [0, 0, 0, ..., 0, 0, 0]],\n",
              "\n",
              "       [[0, 0, 0, ..., 0, 0, 0],\n",
              "        [0, 0, 0, ..., 0, 0, 0],\n",
              "        [0, 0, 0, ..., 0, 0, 0],\n",
              "        ...,\n",
              "        [0, 0, 0, ..., 0, 0, 0],\n",
              "        [0, 0, 0, ..., 0, 0, 0],\n",
              "        [0, 0, 0, ..., 0, 0, 0]],\n",
              "\n",
              "       ...,\n",
              "\n",
              "       [[0, 0, 0, ..., 0, 0, 0],\n",
              "        [0, 0, 0, ..., 0, 0, 0],\n",
              "        [0, 0, 0, ..., 0, 0, 0],\n",
              "        ...,\n",
              "        [0, 0, 0, ..., 0, 0, 0],\n",
              "        [0, 0, 0, ..., 0, 0, 0],\n",
              "        [0, 0, 0, ..., 0, 0, 0]],\n",
              "\n",
              "       [[0, 0, 0, ..., 0, 0, 0],\n",
              "        [0, 0, 0, ..., 0, 0, 0],\n",
              "        [0, 0, 0, ..., 0, 0, 0],\n",
              "        ...,\n",
              "        [0, 0, 0, ..., 0, 0, 0],\n",
              "        [0, 0, 0, ..., 0, 0, 0],\n",
              "        [0, 0, 0, ..., 0, 0, 0]],\n",
              "\n",
              "       [[0, 0, 0, ..., 0, 0, 0],\n",
              "        [0, 0, 0, ..., 0, 0, 0],\n",
              "        [0, 0, 0, ..., 0, 0, 0],\n",
              "        ...,\n",
              "        [0, 0, 0, ..., 0, 0, 0],\n",
              "        [0, 0, 0, ..., 0, 0, 0],\n",
              "        [0, 0, 0, ..., 0, 0, 0]]], dtype=uint8)"
            ]
          },
          "metadata": {},
          "execution_count": 6
        }
      ]
    },
    {
      "cell_type": "code",
      "source": [
        "xtest.shape"
      ],
      "metadata": {
        "colab": {
          "base_uri": "https://localhost:8080/"
        },
        "id": "XRK3pM0FWTS2",
        "outputId": "80ada430-1064-4189-aea1-7afa1d7f6464"
      },
      "execution_count": 7,
      "outputs": [
        {
          "output_type": "execute_result",
          "data": {
            "text/plain": [
              "(10000, 28, 28)"
            ]
          },
          "metadata": {},
          "execution_count": 7
        }
      ]
    },
    {
      "cell_type": "code",
      "source": [
        "ytest[0:5]"
      ],
      "metadata": {
        "colab": {
          "base_uri": "https://localhost:8080/"
        },
        "id": "bG55mOpkWVjt",
        "outputId": "883d4186-5632-40b3-c728-16206bd27bf2"
      },
      "execution_count": 8,
      "outputs": [
        {
          "output_type": "execute_result",
          "data": {
            "text/plain": [
              "array([7, 2, 1, 0, 4], dtype=uint8)"
            ]
          },
          "metadata": {},
          "execution_count": 8
        }
      ]
    },
    {
      "cell_type": "markdown",
      "source": [
        "# Visualizing handwriting digits from data"
      ],
      "metadata": {
        "id": "_7Po2NqhWbss"
      }
    },
    {
      "cell_type": "code",
      "source": [
        "xtrain[0]"
      ],
      "metadata": {
        "colab": {
          "base_uri": "https://localhost:8080/",
          "height": 68
        },
        "id": "uqBG6EiEWX89",
        "outputId": "313e5855-2106-4d25-fd26-63f9bb68044f"
      },
      "execution_count": 9,
      "outputs": [
        {
          "output_type": "execute_result",
          "data": {
            "text/plain": [
              "array([[  0,   0,   0,   0,   0,   0,   0,   0,   0,   0,   0,   0,   0,\n",
              "          0,   0,   0,   0,   0,   0,   0,   0,   0,   0,   0,   0,   0,\n",
              "          0,   0],\n",
              "       [  0,   0,   0,   0,   0,   0,   0,   0,   0,   0,   0,   0,   0,\n",
              "          0,   0,   0,   0,   0,   0,   0,   0,   0,   0,   0,   0,   0,\n",
              "          0,   0],\n",
              "       [  0,   0,   0,   0,   0,   0,   0,   0,   0,   0,   0,   0,   0,\n",
              "          0,   0,   0,   0,   0,   0,   0,   0,   0,   0,   0,   0,   0,\n",
              "          0,   0],\n",
              "       [  0,   0,   0,   0,   0,   0,   0,   0,   0,   0,   0,   0,   0,\n",
              "          0,   0,   0,   0,   0,   0,   0,   0,   0,   0,   0,   0,   0,\n",
              "          0,   0],\n",
              "       [  0,   0,   0,   0,   0,   0,   0,   0,   0,   0,   0,   0,   0,\n",
              "          0,   0,   0,   0,   0,   0,   0,   0,   0,   0,   0,   0,   0,\n",
              "          0,   0],\n",
              "       [  0,   0,   0,   0,   0,   0,   0,   0,   0,   0,   0,   0,   3,\n",
              "         18,  18,  18, 126, 136, 175,  26, 166, 255, 247, 127,   0,   0,\n",
              "          0,   0],\n",
              "       [  0,   0,   0,   0,   0,   0,   0,   0,  30,  36,  94, 154, 170,\n",
              "        253, 253, 253, 253, 253, 225, 172, 253, 242, 195,  64,   0,   0,\n",
              "          0,   0],\n",
              "       [  0,   0,   0,   0,   0,   0,   0,  49, 238, 253, 253, 253, 253,\n",
              "        253, 253, 253, 253, 251,  93,  82,  82,  56,  39,   0,   0,   0,\n",
              "          0,   0],\n",
              "       [  0,   0,   0,   0,   0,   0,   0,  18, 219, 253, 253, 253, 253,\n",
              "        253, 198, 182, 247, 241,   0,   0,   0,   0,   0,   0,   0,   0,\n",
              "          0,   0],\n",
              "       [  0,   0,   0,   0,   0,   0,   0,   0,  80, 156, 107, 253, 253,\n",
              "        205,  11,   0,  43, 154,   0,   0,   0,   0,   0,   0,   0,   0,\n",
              "          0,   0],\n",
              "       [  0,   0,   0,   0,   0,   0,   0,   0,   0,  14,   1, 154, 253,\n",
              "         90,   0,   0,   0,   0,   0,   0,   0,   0,   0,   0,   0,   0,\n",
              "          0,   0],\n",
              "       [  0,   0,   0,   0,   0,   0,   0,   0,   0,   0,   0, 139, 253,\n",
              "        190,   2,   0,   0,   0,   0,   0,   0,   0,   0,   0,   0,   0,\n",
              "          0,   0],\n",
              "       [  0,   0,   0,   0,   0,   0,   0,   0,   0,   0,   0,  11, 190,\n",
              "        253,  70,   0,   0,   0,   0,   0,   0,   0,   0,   0,   0,   0,\n",
              "          0,   0],\n",
              "       [  0,   0,   0,   0,   0,   0,   0,   0,   0,   0,   0,   0,  35,\n",
              "        241, 225, 160, 108,   1,   0,   0,   0,   0,   0,   0,   0,   0,\n",
              "          0,   0],\n",
              "       [  0,   0,   0,   0,   0,   0,   0,   0,   0,   0,   0,   0,   0,\n",
              "         81, 240, 253, 253, 119,  25,   0,   0,   0,   0,   0,   0,   0,\n",
              "          0,   0],\n",
              "       [  0,   0,   0,   0,   0,   0,   0,   0,   0,   0,   0,   0,   0,\n",
              "          0,  45, 186, 253, 253, 150,  27,   0,   0,   0,   0,   0,   0,\n",
              "          0,   0],\n",
              "       [  0,   0,   0,   0,   0,   0,   0,   0,   0,   0,   0,   0,   0,\n",
              "          0,   0,  16,  93, 252, 253, 187,   0,   0,   0,   0,   0,   0,\n",
              "          0,   0],\n",
              "       [  0,   0,   0,   0,   0,   0,   0,   0,   0,   0,   0,   0,   0,\n",
              "          0,   0,   0,   0, 249, 253, 249,  64,   0,   0,   0,   0,   0,\n",
              "          0,   0],\n",
              "       [  0,   0,   0,   0,   0,   0,   0,   0,   0,   0,   0,   0,   0,\n",
              "          0,  46, 130, 183, 253, 253, 207,   2,   0,   0,   0,   0,   0,\n",
              "          0,   0],\n",
              "       [  0,   0,   0,   0,   0,   0,   0,   0,   0,   0,   0,   0,  39,\n",
              "        148, 229, 253, 253, 253, 250, 182,   0,   0,   0,   0,   0,   0,\n",
              "          0,   0],\n",
              "       [  0,   0,   0,   0,   0,   0,   0,   0,   0,   0,  24, 114, 221,\n",
              "        253, 253, 253, 253, 201,  78,   0,   0,   0,   0,   0,   0,   0,\n",
              "          0,   0],\n",
              "       [  0,   0,   0,   0,   0,   0,   0,   0,  23,  66, 213, 253, 253,\n",
              "        253, 253, 198,  81,   2,   0,   0,   0,   0,   0,   0,   0,   0,\n",
              "          0,   0],\n",
              "       [  0,   0,   0,   0,   0,   0,  18, 171, 219, 253, 253, 253, 253,\n",
              "        195,  80,   9,   0,   0,   0,   0,   0,   0,   0,   0,   0,   0,\n",
              "          0,   0],\n",
              "       [  0,   0,   0,   0,  55, 172, 226, 253, 253, 253, 253, 244, 133,\n",
              "         11,   0,   0,   0,   0,   0,   0,   0,   0,   0,   0,   0,   0,\n",
              "          0,   0],\n",
              "       [  0,   0,   0,   0, 136, 253, 253, 253, 212, 135, 132,  16,   0,\n",
              "          0,   0,   0,   0,   0,   0,   0,   0,   0,   0,   0,   0,   0,\n",
              "          0,   0],\n",
              "       [  0,   0,   0,   0,   0,   0,   0,   0,   0,   0,   0,   0,   0,\n",
              "          0,   0,   0,   0,   0,   0,   0,   0,   0,   0,   0,   0,   0,\n",
              "          0,   0],\n",
              "       [  0,   0,   0,   0,   0,   0,   0,   0,   0,   0,   0,   0,   0,\n",
              "          0,   0,   0,   0,   0,   0,   0,   0,   0,   0,   0,   0,   0,\n",
              "          0,   0],\n",
              "       [  0,   0,   0,   0,   0,   0,   0,   0,   0,   0,   0,   0,   0,\n",
              "          0,   0,   0,   0,   0,   0,   0,   0,   0,   0,   0,   0,   0,\n",
              "          0,   0]], dtype=uint8)"
            ],
            "text/html": [
              "<style>\n",
              "      .ndarray_repr .ndarray_raw_data {\n",
              "        display: none;\n",
              "      }\n",
              "      .ndarray_repr.show_array .ndarray_raw_data {\n",
              "        display: block;\n",
              "      }\n",
              "      .ndarray_repr.show_array .ndarray_image_preview {\n",
              "        display: none;\n",
              "      }\n",
              "      </style>\n",
              "      <div id=\"id-abdc2bd8-8051-47a8-bd34-88ab1e766248\" class=\"ndarray_repr\"><pre>ndarray (28, 28) <button style=\"padding: 0 2px;\">show data</button></pre><img src=\"data:image/png;base64,iVBORw0KGgoAAAANSUhEUgAAABwAAAAcCAAAAABXZoBIAAABAElEQVR4nGNgGMyAWUhIqK5jvdSy/9/rGRgYGFhgEnJsVjYCwQwMDAxPJgV+vniQgYGBgREqZ7iXH8r6l/SV4dn7m8gmCt3++/fv37/Htn3/iMW+gDnZf/+e5WbQnoXNNXyMs/5GoQoxwVmf/n9kSGFiwAW49/11wynJoPzx4YIcRlyygR/+/i2XxCWru+vv32nSuGQFYv/83Y3b4p9/fzpAmSyoMnohpiwM1w5h06Q+5enfv39/bcMiJVF09+/fv39P+mFKiTtd/fv3799jgZiBJLT69t+/f/8eDuDEkDJf8+jv379/v7Ryo4qzMDAwMAQGMjBc3/y35wM2V1IfAABFF16Aa0wAOwAAAABJRU5ErkJggg==\" class=\"ndarray_image_preview\" /><pre class=\"ndarray_raw_data\">array([[  0,   0,   0,   0,   0,   0,   0,   0,   0,   0,   0,   0,   0,\n",
              "          0,   0,   0,   0,   0,   0,   0,   0,   0,   0,   0,   0,   0,\n",
              "          0,   0],\n",
              "       [  0,   0,   0,   0,   0,   0,   0,   0,   0,   0,   0,   0,   0,\n",
              "          0,   0,   0,   0,   0,   0,   0,   0,   0,   0,   0,   0,   0,\n",
              "          0,   0],\n",
              "       [  0,   0,   0,   0,   0,   0,   0,   0,   0,   0,   0,   0,   0,\n",
              "          0,   0,   0,   0,   0,   0,   0,   0,   0,   0,   0,   0,   0,\n",
              "          0,   0],\n",
              "       [  0,   0,   0,   0,   0,   0,   0,   0,   0,   0,   0,   0,   0,\n",
              "          0,   0,   0,   0,   0,   0,   0,   0,   0,   0,   0,   0,   0,\n",
              "          0,   0],\n",
              "       [  0,   0,   0,   0,   0,   0,   0,   0,   0,   0,   0,   0,   0,\n",
              "          0,   0,   0,   0,   0,   0,   0,   0,   0,   0,   0,   0,   0,\n",
              "          0,   0],\n",
              "       [  0,   0,   0,   0,   0,   0,   0,   0,   0,   0,   0,   0,   3,\n",
              "         18,  18,  18, 126, 136, 175,  26, 166, 255, 247, 127,   0,   0,\n",
              "          0,   0],\n",
              "       [  0,   0,   0,   0,   0,   0,   0,   0,  30,  36,  94, 154, 170,\n",
              "        253, 253, 253, 253, 253, 225, 172, 253, 242, 195,  64,   0,   0,\n",
              "          0,   0],\n",
              "       [  0,   0,   0,   0,   0,   0,   0,  49, 238, 253, 253, 253, 253,\n",
              "        253, 253, 253, 253, 251,  93,  82,  82,  56,  39,   0,   0,   0,\n",
              "          0,   0],\n",
              "       [  0,   0,   0,   0,   0,   0,   0,  18, 219, 253, 253, 253, 253,\n",
              "        253, 198, 182, 247, 241,   0,   0,   0,   0,   0,   0,   0,   0,\n",
              "          0,   0],\n",
              "       [  0,   0,   0,   0,   0,   0,   0,   0,  80, 156, 107, 253, 253,\n",
              "        205,  11,   0,  43, 154,   0,   0,   0,   0,   0,   0,   0,   0,\n",
              "          0,   0],\n",
              "       [  0,   0,   0,   0,   0,   0,   0,   0,   0,  14,   1, 154, 253,\n",
              "         90,   0,   0,   0,   0,   0,   0,   0,   0,   0,   0,   0,   0,\n",
              "          0,   0],\n",
              "       [  0,   0,   0,   0,   0,   0,   0,   0,   0,   0,   0, 139, 253,\n",
              "        190,   2,   0,   0,   0,   0,   0,   0,   0,   0,   0,   0,   0,\n",
              "          0,   0],\n",
              "       [  0,   0,   0,   0,   0,   0,   0,   0,   0,   0,   0,  11, 190,\n",
              "        253,  70,   0,   0,   0,   0,   0,   0,   0,   0,   0,   0,   0,\n",
              "          0,   0],\n",
              "       [  0,   0,   0,   0,   0,   0,   0,   0,   0,   0,   0,   0,  35,\n",
              "        241, 225, 160, 108,   1,   0,   0,   0,   0,   0,   0,   0,   0,\n",
              "          0,   0],\n",
              "       [  0,   0,   0,   0,   0,   0,   0,   0,   0,   0,   0,   0,   0,\n",
              "         81, 240, 253, 253, 119,  25,   0,   0,   0,   0,   0,   0,   0,\n",
              "          0,   0],\n",
              "       [  0,   0,   0,   0,   0,   0,   0,   0,   0,   0,   0,   0,   0,\n",
              "          0,  45, 186, 253, 253, 150,  27,   0,   0,   0,   0,   0,   0,\n",
              "          0,   0],\n",
              "       [  0,   0,   0,   0,   0,   0,   0,   0,   0,   0,   0,   0,   0,\n",
              "          0,   0,  16,  93, 252, 253, 187,   0,   0,   0,   0,   0,   0,\n",
              "          0,   0],\n",
              "       [  0,   0,   0,   0,   0,   0,   0,   0,   0,   0,   0,   0,   0,\n",
              "          0,   0,   0,   0, 249, 253, 249,  64,   0,   0,   0,   0,   0,\n",
              "          0,   0],\n",
              "       [  0,   0,   0,   0,   0,   0,   0,   0,   0,   0,   0,   0,   0,\n",
              "          0,  46, 130, 183, 253, 253, 207,   2,   0,   0,   0,   0,   0,\n",
              "          0,   0],\n",
              "       [  0,   0,   0,   0,   0,   0,   0,   0,   0,   0,   0,   0,  39,\n",
              "        148, 229, 253, 253, 253, 250, 182,   0,   0,   0,   0,   0,   0,\n",
              "          0,   0],\n",
              "       [  0,   0,   0,   0,   0,   0,   0,   0,   0,   0,  24, 114, 221,\n",
              "        253, 253, 253, 253, 201,  78,   0,   0,   0,   0,   0,   0,   0,\n",
              "          0,   0],\n",
              "       [  0,   0,   0,   0,   0,   0,   0,   0,  23,  66, 213, 253, 253,\n",
              "        253, 253, 198,  81,   2,   0,   0,   0,   0,   0,   0,   0,   0,\n",
              "          0,   0],\n",
              "       [  0,   0,   0,   0,   0,   0,  18, 171, 219, 253, 253, 253, 253,\n",
              "        195,  80,   9,   0,   0,   0,   0,   0,   0,   0,   0,   0,   0,\n",
              "          0,   0],\n",
              "       [  0,   0,   0,   0,  55, 172, 226, 253, 253, 253, 253, 244, 133,\n",
              "         11,   0,   0,   0,   0,   0,   0,   0,   0,   0,   0,   0,   0,\n",
              "          0,   0],\n",
              "       [  0,   0,   0,   0, 136, 253, 253, 253, 212, 135, 132,  16,   0,\n",
              "          0,   0,   0,   0,   0,   0,   0,   0,   0,   0,   0,   0,   0,\n",
              "          0,   0],\n",
              "       [  0,   0,   0,   0,   0,   0,   0,   0,   0,   0,   0,   0,   0,\n",
              "          0,   0,   0,   0,   0,   0,   0,   0,   0,   0,   0,   0,   0,\n",
              "          0,   0],\n",
              "       [  0,   0,   0,   0,   0,   0,   0,   0,   0,   0,   0,   0,   0,\n",
              "          0,   0,   0,   0,   0,   0,   0,   0,   0,   0,   0,   0,   0,\n",
              "          0,   0],\n",
              "       [  0,   0,   0,   0,   0,   0,   0,   0,   0,   0,   0,   0,   0,\n",
              "          0,   0,   0,   0,   0,   0,   0,   0,   0,   0,   0,   0,   0,\n",
              "          0,   0]], dtype=uint8)</pre></div><script>\n",
              "      (() => {\n",
              "      const titles = ['show data', 'hide data'];\n",
              "      let index = 0\n",
              "      document.querySelector('#id-abdc2bd8-8051-47a8-bd34-88ab1e766248 button').onclick = (e) => {\n",
              "        document.querySelector('#id-abdc2bd8-8051-47a8-bd34-88ab1e766248').classList.toggle('show_array');\n",
              "        index = (++index) % 2;\n",
              "        document.querySelector('#id-abdc2bd8-8051-47a8-bd34-88ab1e766248 button').textContent = titles[index];\n",
              "        e.preventDefault();\n",
              "        e.stopPropagation();\n",
              "      }\n",
              "      })();\n",
              "    </script>"
            ]
          },
          "metadata": {},
          "execution_count": 9
        }
      ]
    },
    {
      "cell_type": "code",
      "source": [
        "import matplotlib.pyplot as plt\n",
        "import seaborn as sns"
      ],
      "metadata": {
        "id": "-hqWNi8TWgzh"
      },
      "execution_count": 10,
      "outputs": []
    },
    {
      "cell_type": "code",
      "source": [
        "plt.imshow(xtrain[0], cmap=\"gray\")\n",
        "plt.title(f\"Label : {ytrain[0]}\")\n",
        "plt.show()"
      ],
      "metadata": {
        "colab": {
          "base_uri": "https://localhost:8080/",
          "height": 452
        },
        "id": "di4E3NB5WoRU",
        "outputId": "e620f608-197b-422c-80b9-6d10ea374cee"
      },
      "execution_count": 11,
      "outputs": [
        {
          "output_type": "display_data",
          "data": {
            "text/plain": [
              "<Figure size 640x480 with 1 Axes>"
            ],
            "image/png": "[encoded data removed]"
          },
          "metadata": {}
        }
      ]
    },
    {
      "cell_type": "code",
      "source": [
        "plt.figure(figsize=(15,15))\n",
        "sns.heatmap(xtrain[0], annot=True, fmt = \"d\")\n",
        "plt.show()"
      ],
      "metadata": {
        "colab": {
          "base_uri": "https://localhost:8080/",
          "height": 686
        },
        "id": "yB_BtFtkWy6d",
        "outputId": "2ec0d317-11d5-437a-b84a-dbea817a3423"
      },
      "execution_count": 12,
      "outputs": [
        {
          "output_type": "display_data",
          "data": {
            "text/plain": [
              "<Figure size 1500x1500 with 2 Axes>"
            ],
            "image/png": "[encoded data removed]"
          },
          "metadata": {}
        }
      ]
    },
    {
      "cell_type": "markdown",
      "source": [
        "# Visualize first 9 images from train data"
      ],
      "metadata": {
        "id": "2o2q2mx7XEor"
      }
    },
    {
      "cell_type": "code",
      "source": [
        "list(range(9))"
      ],
      "metadata": {
        "colab": {
          "base_uri": "https://localhost:8080/"
        },
        "id": "DmP2b6WQW_BG",
        "outputId": "25e069b7-55e7-4005-bd7c-531e56eee603"
      },
      "execution_count": 13,
      "outputs": [
        {
          "output_type": "execute_result",
          "data": {
            "text/plain": [
              "[0, 1, 2, 3, 4, 5, 6, 7, 8]"
            ]
          },
          "metadata": {},
          "execution_count": 13
        }
      ]
    },
    {
      "cell_type": "code",
      "source": [
        "plt.figure(figsize=(10, 10))\n",
        "for i in range(9):\n",
        "  plt.subplot(3, 3, i+1)\n",
        "  plt.imshow(xtrain[i], cmap=\"gray\")\n",
        "  plt.title(f\"Label : {ytrain[i]}\")"
      ],
      "metadata": {
        "colab": {
          "base_uri": "https://localhost:8080/",
          "height": 657
        },
        "id": "AVwWMJX7XJrL",
        "outputId": "0d9eb6b0-a129-490d-9a9e-51e5cbf476bb"
      },
      "execution_count": 15,
      "outputs": [
        {
          "output_type": "display_data",
          "data": {
            "text/plain": [
              "<Figure size 1000x1000 with 9 Axes>"
            ],
            "image/png": "[encoded data removed]"
          },
          "metadata": {}
        }
      ]
    },
    {
      "cell_type": "markdown",
      "source": [
        "# Preprocessing on data"
      ],
      "metadata": {
        "id": "-pJF5NE8v4nW"
      }
    },
    {
      "cell_type": "code",
      "source": [
        "import numpy as np"
      ],
      "metadata": {
        "id": "0v2_zMIcv1-1"
      },
      "execution_count": 16,
      "outputs": []
    },
    {
      "cell_type": "code",
      "source": [
        "np.unique(ytrain)"
      ],
      "metadata": {
        "colab": {
          "base_uri": "https://localhost:8080/"
        },
        "id": "r8KqqnpewA_Y",
        "outputId": "58c37990-b72a-49a8-948c-78af9d3882dc"
      },
      "execution_count": 17,
      "outputs": [
        {
          "output_type": "execute_result",
          "data": {
            "text/plain": [
              "array([0, 1, 2, 3, 4, 5, 6, 7, 8, 9], dtype=uint8)"
            ]
          },
          "metadata": {},
          "execution_count": 17
        }
      ]
    },
    {
      "cell_type": "code",
      "source": [
        "xtrain_scl = xtrain.astype(\"float32\")/255\n",
        "xtest_scl = xtest.astype(\"float32\")/255"
      ],
      "metadata": {
        "id": "c0jA1hQCwEQJ"
      },
      "execution_count": 18,
      "outputs": []
    },
    {
      "cell_type": "code",
      "source": [
        "xtrain_scl[0]"
      ],
      "metadata": {
        "colab": {
          "base_uri": "https://localhost:8080/"
        },
        "id": "Vr6mYnkUwQ3M",
        "outputId": "a5350f39-54ff-4e13-b46c-e81c1994df55"
      },
      "execution_count": 19,
      "outputs": [
        {
          "output_type": "execute_result",
          "data": {
            "text/plain": [
              "array([[0.        , 0.        , 0.        , 0.        , 0.        ,\n",
              "        0.        , 0.        , 0.        , 0.        , 0.        ,\n",
              "        0.        , 0.        , 0.        , 0.        , 0.        ,\n",
              "        0.        , 0.        , 0.        , 0.        , 0.        ,\n",
              "        0.        , 0.        , 0.        , 0.        , 0.        ,\n",
              "        0.        , 0.        , 0.        ],\n",
              "       [0.        , 0.        , 0.        , 0.        , 0.        ,\n",
              "        0.        , 0.        , 0.        , 0.        , 0.        ,\n",
              "        0.        , 0.        , 0.        , 0.        , 0.        ,\n",
              "        0.        , 0.        , 0.        , 0.        , 0.        ,\n",
              "        0.        , 0.        , 0.        , 0.        , 0.        ,\n",
              "        0.        , 0.        , 0.        ],\n",
              "       [0.        , 0.        , 0.        , 0.        , 0.        ,\n",
              "        0.        , 0.        , 0.        , 0.        , 0.        ,\n",
              "        0.        , 0.        , 0.        , 0.        , 0.        ,\n",
              "        0.        , 0.        , 0.        , 0.        , 0.        ,\n",
              "        0.        , 0.        , 0.        , 0.        , 0.        ,\n",
              "        0.        , 0.        , 0.        ],\n",
              "       [0.        , 0.        , 0.        , 0.        , 0.        ,\n",
              "        0.        , 0.        , 0.        , 0.        , 0.        ,\n",
              "        0.        , 0.        , 0.        , 0.        , 0.        ,\n",
              "        0.        , 0.        , 0.        , 0.        , 0.        ,\n",
              "        0.        , 0.        , 0.        , 0.        , 0.        ,\n",
              "        0.        , 0.        , 0.        ],\n",
              "       [0.        , 0.        , 0.        , 0.        , 0.        ,\n",
              "        0.        , 0.        , 0.        , 0.        , 0.        ,\n",
              "        0.        , 0.        , 0.        , 0.        , 0.        ,\n",
              "        0.        , 0.        , 0.        , 0.        , 0.        ,\n",
              "        0.        , 0.        , 0.        , 0.        , 0.        ,\n",
              "        0.        , 0.        , 0.        ],\n",
              "       [0.        , 0.        , 0.        , 0.        , 0.        ,\n",
              "        0.        , 0.        , 0.        , 0.        , 0.        ,\n",
              "        0.        , 0.        , 0.01176471, 0.07058824, 0.07058824,\n",
              "        0.07058824, 0.49411765, 0.53333336, 0.6862745 , 0.10196079,\n",
              "        0.6509804 , 1.        , 0.96862745, 0.49803922, 0.        ,\n",
              "        0.        , 0.        , 0.        ],\n",
              "       [0.        , 0.        , 0.        , 0.        , 0.        ,\n",
              "        0.        , 0.        , 0.        , 0.11764706, 0.14117648,\n",
              "        0.36862746, 0.6039216 , 0.6666667 , 0.99215686, 0.99215686,\n",
              "        0.99215686, 0.99215686, 0.99215686, 0.88235295, 0.6745098 ,\n",
              "        0.99215686, 0.9490196 , 0.7647059 , 0.2509804 , 0.        ,\n",
              "        0.        , 0.        , 0.        ],\n",
              "       [0.        , 0.        , 0.        , 0.        , 0.        ,\n",
              "        0.        , 0.        , 0.19215687, 0.93333334, 0.99215686,\n",
              "        0.99215686, 0.99215686, 0.99215686, 0.99215686, 0.99215686,\n",
              "        0.99215686, 0.99215686, 0.9843137 , 0.3647059 , 0.32156864,\n",
              "        0.32156864, 0.21960784, 0.15294118, 0.        , 0.        ,\n",
              "        0.        , 0.        , 0.        ],\n",
              "       [0.        , 0.        , 0.        , 0.        , 0.        ,\n",
              "        0.        , 0.        , 0.07058824, 0.85882354, 0.99215686,\n",
              "        0.99215686, 0.99215686, 0.99215686, 0.99215686, 0.7764706 ,\n",
              "        0.7137255 , 0.96862745, 0.94509804, 0.        , 0.        ,\n",
              "        0.        , 0.        , 0.        , 0.        , 0.        ,\n",
              "        0.        , 0.        , 0.        ],\n",
              "       [0.        , 0.        , 0.        , 0.        , 0.        ,\n",
              "        0.        , 0.        , 0.        , 0.3137255 , 0.6117647 ,\n",
              "        0.41960785, 0.99215686, 0.99215686, 0.8039216 , 0.04313726,\n",
              "        0.        , 0.16862746, 0.6039216 , 0.        , 0.        ,\n",
              "        0.        , 0.        , 0.        , 0.        , 0.        ,\n",
              "        0.        , 0.        , 0.        ],\n",
              "       [0.        , 0.        , 0.        , 0.        , 0.        ,\n",
              "        0.        , 0.        , 0.        , 0.        , 0.05490196,\n",
              "        0.00392157, 0.6039216 , 0.99215686, 0.3529412 , 0.        ,\n",
              "        0.        , 0.        , 0.        , 0.        , 0.        ,\n",
              "        0.        , 0.        , 0.        , 0.        , 0.        ,\n",
              "        0.        , 0.        , 0.        ],\n",
              "       [0.        , 0.        , 0.        , 0.        , 0.        ,\n",
              "        0.        , 0.        , 0.        , 0.        , 0.        ,\n",
              "        0.        , 0.54509807, 0.99215686, 0.74509805, 0.00784314,\n",
              "        0.        , 0.        , 0.        , 0.        , 0.        ,\n",
              "        0.        , 0.        , 0.        , 0.        , 0.        ,\n",
              "        0.        , 0.        , 0.        ],\n",
              "       [0.        , 0.        , 0.        , 0.        , 0.        ,\n",
              "        0.        , 0.        , 0.        , 0.        , 0.        ,\n",
              "        0.        , 0.04313726, 0.74509805, 0.99215686, 0.27450982,\n",
              "        0.        , 0.        , 0.        , 0.        , 0.        ,\n",
              "        0.        , 0.        , 0.        , 0.        , 0.        ,\n",
              "        0.        , 0.        , 0.        ],\n",
              "       [0.        , 0.        , 0.        , 0.        , 0.        ,\n",
              "        0.        , 0.        , 0.        , 0.        , 0.        ,\n",
              "        0.        , 0.        , 0.13725491, 0.94509804, 0.88235295,\n",
              "        0.627451  , 0.42352942, 0.00392157, 0.        , 0.        ,\n",
              "        0.        , 0.        , 0.        , 0.        , 0.        ,\n",
              "        0.        , 0.        , 0.        ],\n",
              "       [0.        , 0.        , 0.        , 0.        , 0.        ,\n",
              "        0.        , 0.        , 0.        , 0.        , 0.        ,\n",
              "        0.        , 0.        , 0.        , 0.31764707, 0.9411765 ,\n",
              "        0.99215686, 0.99215686, 0.46666667, 0.09803922, 0.        ,\n",
              "        0.        , 0.        , 0.        , 0.        , 0.        ,\n",
              "        0.        , 0.        , 0.        ],\n",
              "       [0.        , 0.        , 0.        , 0.        , 0.        ,\n",
              "        0.        , 0.        , 0.        , 0.        , 0.        ,\n",
              "        0.        , 0.        , 0.        , 0.        , 0.1764706 ,\n",
              "        0.7294118 , 0.99215686, 0.99215686, 0.5882353 , 0.10588235,\n",
              "        0.        , 0.        , 0.        , 0.        , 0.        ,\n",
              "        0.        , 0.        , 0.        ],\n",
              "       [0.        , 0.        , 0.        , 0.        , 0.        ,\n",
              "        0.        , 0.        , 0.        , 0.        , 0.        ,\n",
              "        0.        , 0.        , 0.        , 0.        , 0.        ,\n",
              "        0.0627451 , 0.3647059 , 0.9882353 , 0.99215686, 0.73333335,\n",
              "        0.        , 0.        , 0.        , 0.        , 0.        ,\n",
              "        0.        , 0.        , 0.        ],\n",
              "       [0.        , 0.        , 0.        , 0.        , 0.        ,\n",
              "        0.        , 0.        , 0.        , 0.        , 0.        ,\n",
              "        0.        , 0.        , 0.        , 0.        , 0.        ,\n",
              "        0.        , 0.        , 0.9764706 , 0.99215686, 0.9764706 ,\n",
              "        0.2509804 , 0.        , 0.        , 0.        , 0.        ,\n",
              "        0.        , 0.        , 0.        ],\n",
              "       [0.        , 0.        , 0.        , 0.        , 0.        ,\n",
              "        0.        , 0.        , 0.        , 0.        , 0.        ,\n",
              "        0.        , 0.        , 0.        , 0.        , 0.18039216,\n",
              "        0.50980395, 0.7176471 , 0.99215686, 0.99215686, 0.8117647 ,\n",
              "        0.00784314, 0.        , 0.        , 0.        , 0.        ,\n",
              "        0.        , 0.        , 0.        ],\n",
              "       [0.        , 0.        , 0.        , 0.        , 0.        ,\n",
              "        0.        , 0.        , 0.        , 0.        , 0.        ,\n",
              "        0.        , 0.        , 0.15294118, 0.5803922 , 0.8980392 ,\n",
              "        0.99215686, 0.99215686, 0.99215686, 0.98039216, 0.7137255 ,\n",
              "        0.        , 0.        , 0.        , 0.        , 0.        ,\n",
              "        0.        , 0.        , 0.        ],\n",
              "       [0.        , 0.        , 0.        , 0.        , 0.        ,\n",
              "        0.        , 0.        , 0.        , 0.        , 0.        ,\n",
              "        0.09411765, 0.44705883, 0.8666667 , 0.99215686, 0.99215686,\n",
              "        0.99215686, 0.99215686, 0.7882353 , 0.30588236, 0.        ,\n",
              "        0.        , 0.        , 0.        , 0.        , 0.        ,\n",
              "        0.        , 0.        , 0.        ],\n",
              "       [0.        , 0.        , 0.        , 0.        , 0.        ,\n",
              "        0.        , 0.        , 0.        , 0.09019608, 0.25882354,\n",
              "        0.8352941 , 0.99215686, 0.99215686, 0.99215686, 0.99215686,\n",
              "        0.7764706 , 0.31764707, 0.00784314, 0.        , 0.        ,\n",
              "        0.        , 0.        , 0.        , 0.        , 0.        ,\n",
              "        0.        , 0.        , 0.        ],\n",
              "       [0.        , 0.        , 0.        , 0.        , 0.        ,\n",
              "        0.        , 0.07058824, 0.67058825, 0.85882354, 0.99215686,\n",
              "        0.99215686, 0.99215686, 0.99215686, 0.7647059 , 0.3137255 ,\n",
              "        0.03529412, 0.        , 0.        , 0.        , 0.        ,\n",
              "        0.        , 0.        , 0.        , 0.        , 0.        ,\n",
              "        0.        , 0.        , 0.        ],\n",
              "       [0.        , 0.        , 0.        , 0.        , 0.21568628,\n",
              "        0.6745098 , 0.8862745 , 0.99215686, 0.99215686, 0.99215686,\n",
              "        0.99215686, 0.95686275, 0.52156866, 0.04313726, 0.        ,\n",
              "        0.        , 0.        , 0.        , 0.        , 0.        ,\n",
              "        0.        , 0.        , 0.        , 0.        , 0.        ,\n",
              "        0.        , 0.        , 0.        ],\n",
              "       [0.        , 0.        , 0.        , 0.        , 0.53333336,\n",
              "        0.99215686, 0.99215686, 0.99215686, 0.83137256, 0.5294118 ,\n",
              "        0.5176471 , 0.0627451 , 0.        , 0.        , 0.        ,\n",
              "        0.        , 0.        , 0.        , 0.        , 0.        ,\n",
              "        0.        , 0.        , 0.        , 0.        , 0.        ,\n",
              "        0.        , 0.        , 0.        ],\n",
              "       [0.        , 0.        , 0.        , 0.        , 0.        ,\n",
              "        0.        , 0.        , 0.        , 0.        , 0.        ,\n",
              "        0.        , 0.        , 0.        , 0.        , 0.        ,\n",
              "        0.        , 0.        , 0.        , 0.        , 0.        ,\n",
              "        0.        , 0.        , 0.        , 0.        , 0.        ,\n",
              "        0.        , 0.        , 0.        ],\n",
              "       [0.        , 0.        , 0.        , 0.        , 0.        ,\n",
              "        0.        , 0.        , 0.        , 0.        , 0.        ,\n",
              "        0.        , 0.        , 0.        , 0.        , 0.        ,\n",
              "        0.        , 0.        , 0.        , 0.        , 0.        ,\n",
              "        0.        , 0.        , 0.        , 0.        , 0.        ,\n",
              "        0.        , 0.        , 0.        ],\n",
              "       [0.        , 0.        , 0.        , 0.        , 0.        ,\n",
              "        0.        , 0.        , 0.        , 0.        , 0.        ,\n",
              "        0.        , 0.        , 0.        , 0.        , 0.        ,\n",
              "        0.        , 0.        , 0.        , 0.        , 0.        ,\n",
              "        0.        , 0.        , 0.        , 0.        , 0.        ,\n",
              "        0.        , 0.        , 0.        ]], dtype=float32)"
            ]
          },
          "metadata": {},
          "execution_count": 19
        }
      ]
    },
    {
      "cell_type": "markdown",
      "source": [
        "# Because above is multiclass classification problem you need to one hot encode y data"
      ],
      "metadata": {
        "id": "qjja0wjBwWq1"
      }
    },
    {
      "cell_type": "code",
      "source": [
        "import numpy as np"
      ],
      "metadata": {
        "id": "wozildj4wT4a"
      },
      "execution_count": 20,
      "outputs": []
    },
    {
      "cell_type": "code",
      "source": [
        "# Make sure the image shape is (28, 28, 1)\n",
        "xtrain_scl = np.expand_dims(xtrain_scl, -1)\n",
        "xtest_scl = np.expand_dims(xtest_scl, -1)"
      ],
      "metadata": {
        "id": "x952RV0Nwizt"
      },
      "execution_count": 21,
      "outputs": []
    },
    {
      "cell_type": "code",
      "source": [
        "from keras.utils import to_categorical"
      ],
      "metadata": {
        "id": "mbKqqIkLwzuB"
      },
      "execution_count": 22,
      "outputs": []
    },
    {
      "cell_type": "code",
      "source": [
        "ytrain_cat = to_categorical(ytrain)\n",
        "ytest_cat = to_categorical(ytest)"
      ],
      "metadata": {
        "id": "4WW6Zd10w5CY"
      },
      "execution_count": 23,
      "outputs": []
    },
    {
      "cell_type": "code",
      "source": [
        "ytrain[0:5]"
      ],
      "metadata": {
        "colab": {
          "base_uri": "https://localhost:8080/"
        },
        "id": "dg4C1QKHxBS-",
        "outputId": "3dbe2ab5-c707-4f12-c5f9-995ff4f6e22d"
      },
      "execution_count": 24,
      "outputs": [
        {
          "output_type": "execute_result",
          "data": {
            "text/plain": [
              "array([5, 0, 4, 1, 9], dtype=uint8)"
            ]
          },
          "metadata": {},
          "execution_count": 24
        }
      ]
    },
    {
      "cell_type": "code",
      "source": [
        "ytrain_cat[0:5]"
      ],
      "metadata": {
        "colab": {
          "base_uri": "https://localhost:8080/"
        },
        "id": "xc_SnfqIxEhb",
        "outputId": "2a3e4cc0-a7fa-454a-df62-773f3e0ecfaf"
      },
      "execution_count": 25,
      "outputs": [
        {
          "output_type": "execute_result",
          "data": {
            "text/plain": [
              "array([[0., 0., 0., 0., 0., 1., 0., 0., 0., 0.],\n",
              "       [1., 0., 0., 0., 0., 0., 0., 0., 0., 0.],\n",
              "       [0., 0., 0., 0., 1., 0., 0., 0., 0., 0.],\n",
              "       [0., 1., 0., 0., 0., 0., 0., 0., 0., 0.],\n",
              "       [0., 0., 0., 0., 0., 0., 0., 0., 0., 1.]])"
            ]
          },
          "metadata": {},
          "execution_count": 25
        }
      ]
    },
    {
      "cell_type": "markdown",
      "source": [
        "![image.png](data:image/png;base64,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)"
      ],
      "metadata": {
        "id": "3M_S4gCixJ-l"
      }
    },
    {
      "cell_type": "markdown",
      "source": [
        "# Build the neural network"
      ],
      "metadata": {
        "id": "9pCIKrE3xOlM"
      }
    },
    {
      "cell_type": "markdown",
      "source": [
        "![image.png](data:image/png;base64,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)"
      ],
      "metadata": {
        "id": "MoNzino-xNBS"
      }
    },
    {
      "cell_type": "markdown",
      "source": [
        "![image.png](data:image/png;base64,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)"
      ],
      "metadata": {
        "id": "Vijw9DCXxSw1"
      }
    },
    {
      "cell_type": "code",
      "source": [
        "xtrain.shape"
      ],
      "metadata": {
        "colab": {
          "base_uri": "https://localhost:8080/"
        },
        "id": "B1yGaiAqxHkR",
        "outputId": "b866a715-8d78-4796-db1b-c9b99f28bb9f"
      },
      "execution_count": 26,
      "outputs": [
        {
          "output_type": "execute_result",
          "data": {
            "text/plain": [
              "(60000, 28, 28)"
            ]
          },
          "metadata": {},
          "execution_count": 26
        }
      ]
    },
    {
      "cell_type": "code",
      "source": [
        "ytrain_cat.shape"
      ],
      "metadata": {
        "colab": {
          "base_uri": "https://localhost:8080/"
        },
        "id": "b-5HSzzjxdyE",
        "outputId": "c8715f9b-2159-492e-e17f-7b22fda8e846"
      },
      "execution_count": 27,
      "outputs": [
        {
          "output_type": "execute_result",
          "data": {
            "text/plain": [
              "(60000, 10)"
            ]
          },
          "metadata": {},
          "execution_count": 27
        }
      ]
    },
    {
      "cell_type": "code",
      "source": [
        "from keras.models import Sequential\n",
        "from keras.layers import Input, Dense, Dropout, Convolution2D, MaxPooling2D, Flatten"
      ],
      "metadata": {
        "id": "nbPL91BBxfgI"
      },
      "execution_count": 29,
      "outputs": []
    },
    {
      "cell_type": "code",
      "source": [
        "model = Sequential(\n",
        "    [\n",
        "        Input(shape=(28, 28, 1)),\n",
        "        Convolution2D(32, kernel_size=(3, 3), activation=\"relu\"),\n",
        "        MaxPooling2D(pool_size=(2, 2)),\n",
        "        Convolution2D(64, kernel_size=(3, 3), activation=\"relu\"),\n",
        "        MaxPooling2D(pool_size=(2,2)),\n",
        "        Flatten(),\n",
        "        Dropout(0.5),\n",
        "        Dense(10, activation=\"softmax\")\n",
        "    ]\n",
        ")"
      ],
      "metadata": {
        "id": "VCXE-xezxwlP"
      },
      "execution_count": 30,
      "outputs": []
    },
    {
      "cell_type": "code",
      "source": [
        "model.summary()"
      ],
      "metadata": {
        "colab": {
          "base_uri": "https://localhost:8080/",
          "height": 379
        },
        "id": "EXuFr-Dfyerl",
        "outputId": "9977cc3d-a2a4-44c8-d483-1aa11555f960"
      },
      "execution_count": 31,
      "outputs": [
        {
          "output_type": "display_data",
          "data": {
            "text/plain": [
              "\u001b[1mModel: \"sequential\"\u001b[0m\n"
            ],
            "text/html": [
              "<pre style=\"white-space:pre;overflow-x:auto;line-height:normal;font-family:Menlo,'DejaVu Sans Mono',consolas,'Courier New',monospace\"><span style=\"font-weight: bold\">Model: \"sequential\"</span>\n",
              "</pre>\n"
            ]
          },
          "metadata": {}
        },
        {
          "output_type": "display_data",
          "data": {
            "text/plain": [
              "┏━━━━━━━━━━━━━━━━━━━━━━━━━━━━━━━━━━━━━━┳━━━━━━━━━━━━━━━━━━━━━━━━━━━━━┳━━━━━━━━━━━━━━━━━┓\n",
              "┃\u001b[1m \u001b[0m\u001b[1mLayer (type)                        \u001b[0m\u001b[1m \u001b[0m┃\u001b[1m \u001b[0m\u001b[1mOutput Shape               \u001b[0m\u001b[1m \u001b[0m┃\u001b[1m \u001b[0m\u001b[1m        Param #\u001b[0m\u001b[1m \u001b[0m┃\n",
              "┡━━━━━━━━━━━━━━━━━━━━━━━━━━━━━━━━━━━━━━╇━━━━━━━━━━━━━━━━━━━━━━━━━━━━━╇━━━━━━━━━━━━━━━━━┩\n",
              "│ conv2d (\u001b[38;5;33mConv2D\u001b[0m)                      │ (\u001b[38;5;45mNone\u001b[0m, \u001b[38;5;34m26\u001b[0m, \u001b[38;5;34m26\u001b[0m, \u001b[38;5;34m32\u001b[0m)          │             \u001b[38;5;34m320\u001b[0m │\n",
              "├──────────────────────────────────────┼─────────────────────────────┼─────────────────┤\n",
              "│ max_pooling2d (\u001b[38;5;33mMaxPooling2D\u001b[0m)         │ (\u001b[38;5;45mNone\u001b[0m, \u001b[38;5;34m13\u001b[0m, \u001b[38;5;34m13\u001b[0m, \u001b[38;5;34m32\u001b[0m)          │               \u001b[38;5;34m0\u001b[0m │\n",
              "├──────────────────────────────────────┼─────────────────────────────┼─────────────────┤\n",
              "│ conv2d_1 (\u001b[38;5;33mConv2D\u001b[0m)                    │ (\u001b[38;5;45mNone\u001b[0m, \u001b[38;5;34m11\u001b[0m, \u001b[38;5;34m11\u001b[0m, \u001b[38;5;34m64\u001b[0m)          │          \u001b[38;5;34m18,496\u001b[0m │\n",
              "├──────────────────────────────────────┼─────────────────────────────┼─────────────────┤\n",
              "│ max_pooling2d_1 (\u001b[38;5;33mMaxPooling2D\u001b[0m)       │ (\u001b[38;5;45mNone\u001b[0m, \u001b[38;5;34m5\u001b[0m, \u001b[38;5;34m5\u001b[0m, \u001b[38;5;34m64\u001b[0m)            │               \u001b[38;5;34m0\u001b[0m │\n",
              "├──────────────────────────────────────┼─────────────────────────────┼─────────────────┤\n",
              "│ flatten (\u001b[38;5;33mFlatten\u001b[0m)                    │ (\u001b[38;5;45mNone\u001b[0m, \u001b[38;5;34m1600\u001b[0m)                │               \u001b[38;5;34m0\u001b[0m │\n",
              "├──────────────────────────────────────┼─────────────────────────────┼─────────────────┤\n",
              "│ dropout (\u001b[38;5;33mDropout\u001b[0m)                    │ (\u001b[38;5;45mNone\u001b[0m, \u001b[38;5;34m1600\u001b[0m)                │               \u001b[38;5;34m0\u001b[0m │\n",
              "├──────────────────────────────────────┼─────────────────────────────┼─────────────────┤\n",
              "│ dense (\u001b[38;5;33mDense\u001b[0m)                        │ (\u001b[38;5;45mNone\u001b[0m, \u001b[38;5;34m10\u001b[0m)                  │          \u001b[38;5;34m16,010\u001b[0m │\n",
              "└──────────────────────────────────────┴─────────────────────────────┴─────────────────┘\n"
            ],
            "text/html": [
              "<pre style=\"white-space:pre;overflow-x:auto;line-height:normal;font-family:Menlo,'DejaVu Sans Mono',consolas,'Courier New',monospace\">┏━━━━━━━━━━━━━━━━━━━━━━━━━━━━━━━━━━━━━━┳━━━━━━━━━━━━━━━━━━━━━━━━━━━━━┳━━━━━━━━━━━━━━━━━┓\n",
              "┃<span style=\"font-weight: bold\"> Layer (type)                         </span>┃<span style=\"font-weight: bold\"> Output Shape                </span>┃<span style=\"font-weight: bold\">         Param # </span>┃\n",
              "┡━━━━━━━━━━━━━━━━━━━━━━━━━━━━━━━━━━━━━━╇━━━━━━━━━━━━━━━━━━━━━━━━━━━━━╇━━━━━━━━━━━━━━━━━┩\n",
              "│ conv2d (<span style=\"color: #0087ff; text-decoration-color: #0087ff\">Conv2D</span>)                      │ (<span style=\"color: #00d7ff; text-decoration-color: #00d7ff\">None</span>, <span style=\"color: #00af00; text-decoration-color: #00af00\">26</span>, <span style=\"color: #00af00; text-decoration-color: #00af00\">26</span>, <span style=\"color: #00af00; text-decoration-color: #00af00\">32</span>)          │             <span style=\"color: #00af00; text-decoration-color: #00af00\">320</span> │\n",
              "├──────────────────────────────────────┼─────────────────────────────┼─────────────────┤\n",
              "│ max_pooling2d (<span style=\"color: #0087ff; text-decoration-color: #0087ff\">MaxPooling2D</span>)         │ (<span style=\"color: #00d7ff; text-decoration-color: #00d7ff\">None</span>, <span style=\"color: #00af00; text-decoration-color: #00af00\">13</span>, <span style=\"color: #00af00; text-decoration-color: #00af00\">13</span>, <span style=\"color: #00af00; text-decoration-color: #00af00\">32</span>)          │               <span style=\"color: #00af00; text-decoration-color: #00af00\">0</span> │\n",
              "├──────────────────────────────────────┼─────────────────────────────┼─────────────────┤\n",
              "│ conv2d_1 (<span style=\"color: #0087ff; text-decoration-color: #0087ff\">Conv2D</span>)                    │ (<span style=\"color: #00d7ff; text-decoration-color: #00d7ff\">None</span>, <span style=\"color: #00af00; text-decoration-color: #00af00\">11</span>, <span style=\"color: #00af00; text-decoration-color: #00af00\">11</span>, <span style=\"color: #00af00; text-decoration-color: #00af00\">64</span>)          │          <span style=\"color: #00af00; text-decoration-color: #00af00\">18,496</span> │\n",
              "├──────────────────────────────────────┼─────────────────────────────┼─────────────────┤\n",
              "│ max_pooling2d_1 (<span style=\"color: #0087ff; text-decoration-color: #0087ff\">MaxPooling2D</span>)       │ (<span style=\"color: #00d7ff; text-decoration-color: #00d7ff\">None</span>, <span style=\"color: #00af00; text-decoration-color: #00af00\">5</span>, <span style=\"color: #00af00; text-decoration-color: #00af00\">5</span>, <span style=\"color: #00af00; text-decoration-color: #00af00\">64</span>)            │               <span style=\"color: #00af00; text-decoration-color: #00af00\">0</span> │\n",
              "├──────────────────────────────────────┼─────────────────────────────┼─────────────────┤\n",
              "│ flatten (<span style=\"color: #0087ff; text-decoration-color: #0087ff\">Flatten</span>)                    │ (<span style=\"color: #00d7ff; text-decoration-color: #00d7ff\">None</span>, <span style=\"color: #00af00; text-decoration-color: #00af00\">1600</span>)                │               <span style=\"color: #00af00; text-decoration-color: #00af00\">0</span> │\n",
              "├──────────────────────────────────────┼─────────────────────────────┼─────────────────┤\n",
              "│ dropout (<span style=\"color: #0087ff; text-decoration-color: #0087ff\">Dropout</span>)                    │ (<span style=\"color: #00d7ff; text-decoration-color: #00d7ff\">None</span>, <span style=\"color: #00af00; text-decoration-color: #00af00\">1600</span>)                │               <span style=\"color: #00af00; text-decoration-color: #00af00\">0</span> │\n",
              "├──────────────────────────────────────┼─────────────────────────────┼─────────────────┤\n",
              "│ dense (<span style=\"color: #0087ff; text-decoration-color: #0087ff\">Dense</span>)                        │ (<span style=\"color: #00d7ff; text-decoration-color: #00d7ff\">None</span>, <span style=\"color: #00af00; text-decoration-color: #00af00\">10</span>)                  │          <span style=\"color: #00af00; text-decoration-color: #00af00\">16,010</span> │\n",
              "└──────────────────────────────────────┴─────────────────────────────┴─────────────────┘\n",
              "</pre>\n"
            ]
          },
          "metadata": {}
        },
        {
          "output_type": "display_data",
          "data": {
            "text/plain": [
              "\u001b[1m Total params: \u001b[0m\u001b[38;5;34m34,826\u001b[0m (136.04 KB)\n"
            ],
            "text/html": [
              "<pre style=\"white-space:pre;overflow-x:auto;line-height:normal;font-family:Menlo,'DejaVu Sans Mono',consolas,'Courier New',monospace\"><span style=\"font-weight: bold\"> Total params: </span><span style=\"color: #00af00; text-decoration-color: #00af00\">34,826</span> (136.04 KB)\n",
              "</pre>\n"
            ]
          },
          "metadata": {}
        },
        {
          "output_type": "display_data",
          "data": {
            "text/plain": [
              "\u001b[1m Trainable params: \u001b[0m\u001b[38;5;34m34,826\u001b[0m (136.04 KB)\n"
            ],
            "text/html": [
              "<pre style=\"white-space:pre;overflow-x:auto;line-height:normal;font-family:Menlo,'DejaVu Sans Mono',consolas,'Courier New',monospace\"><span style=\"font-weight: bold\"> Trainable params: </span><span style=\"color: #00af00; text-decoration-color: #00af00\">34,826</span> (136.04 KB)\n",
              "</pre>\n"
            ]
          },
          "metadata": {}
        },
        {
          "output_type": "display_data",
          "data": {
            "text/plain": [
              "\u001b[1m Non-trainable params: \u001b[0m\u001b[38;5;34m0\u001b[0m (0.00 B)\n"
            ],
            "text/html": [
              "<pre style=\"white-space:pre;overflow-x:auto;line-height:normal;font-family:Menlo,'DejaVu Sans Mono',consolas,'Courier New',monospace\"><span style=\"font-weight: bold\"> Non-trainable params: </span><span style=\"color: #00af00; text-decoration-color: #00af00\">0</span> (0.00 B)\n",
              "</pre>\n"
            ]
          },
          "metadata": {}
        }
      ]
    },
    {
      "cell_type": "code",
      "source": [
        "model.compile(optimizer=\"adam\", loss=\"categorical_crossentropy\", metrics=[\"accuracy\"])"
      ],
      "metadata": {
        "id": "BYapepBCyg90"
      },
      "execution_count": 32,
      "outputs": []
    },
    {
      "cell_type": "code",
      "source": [
        "hist = model.fit(xtrain_scl, ytrain_cat, validation_split=0.1, epochs=10, batch_size=32)"
      ],
      "metadata": {
        "colab": {
          "base_uri": "https://localhost:8080/"
        },
        "id": "2y4WtNmcyt84",
        "outputId": "0f92e229-ed1b-42f0-fb82-d71b42379ee3"
      },
      "execution_count": 33,
      "outputs": [
        {
          "output_type": "stream",
          "name": "stdout",
          "text": [
            "Epoch 1/10\n",
            "\u001b[1m1688/1688\u001b[0m \u001b[32m━━━━━━━━━━━━━━━━━━━━\u001b[0m\u001b[37m\u001b[0m \u001b[1m15s\u001b[0m 6ms/step - accuracy: 0.8511 - loss: 0.4749 - val_accuracy: 0.9828 - val_loss: 0.0649\n",
            "Epoch 2/10\n",
            "\u001b[1m1688/1688\u001b[0m \u001b[32m━━━━━━━━━━━━━━━━━━━━\u001b[0m\u001b[37m\u001b[0m \u001b[1m6s\u001b[0m 4ms/step - accuracy: 0.9709 - loss: 0.0898 - val_accuracy: 0.9872 - val_loss: 0.0461\n",
            "Epoch 3/10\n",
            "\u001b[1m1688/1688\u001b[0m \u001b[32m━━━━━━━━━━━━━━━━━━━━\u001b[0m\u001b[37m\u001b[0m \u001b[1m9s\u001b[0m 5ms/step - accuracy: 0.9794 - loss: 0.0652 - val_accuracy: 0.9895 - val_loss: 0.0376\n",
            "Epoch 4/10\n",
            "\u001b[1m1688/1688\u001b[0m \u001b[32m━━━━━━━━━━━━━━━━━━━━\u001b[0m\u001b[37m\u001b[0m \u001b[1m7s\u001b[0m 4ms/step - accuracy: 0.9820 - loss: 0.0562 - val_accuracy: 0.9898 - val_loss: 0.0373\n",
            "Epoch 5/10\n",
            "\u001b[1m1688/1688\u001b[0m \u001b[32m━━━━━━━━━━━━━━━━━━━━\u001b[0m\u001b[37m\u001b[0m \u001b[1m8s\u001b[0m 5ms/step - accuracy: 0.9840 - loss: 0.0523 - val_accuracy: 0.9915 - val_loss: 0.0342\n",
            "Epoch 6/10\n",
            "\u001b[1m1688/1688\u001b[0m \u001b[32m━━━━━━━━━━━━━━━━━━━━\u001b[0m\u001b[37m\u001b[0m \u001b[1m11s\u001b[0m 5ms/step - accuracy: 0.9857 - loss: 0.0445 - val_accuracy: 0.9907 - val_loss: 0.0323\n",
            "Epoch 7/10\n",
            "\u001b[1m1688/1688\u001b[0m \u001b[32m━━━━━━━━━━━━━━━━━━━━\u001b[0m\u001b[37m\u001b[0m \u001b[1m7s\u001b[0m 4ms/step - accuracy: 0.9872 - loss: 0.0409 - val_accuracy: 0.9912 - val_loss: 0.0333\n",
            "Epoch 8/10\n",
            "\u001b[1m1688/1688\u001b[0m \u001b[32m━━━━━━━━━━━━━━━━━━━━\u001b[0m\u001b[37m\u001b[0m \u001b[1m11s\u001b[0m 4ms/step - accuracy: 0.9880 - loss: 0.0370 - val_accuracy: 0.9910 - val_loss: 0.0317\n",
            "Epoch 9/10\n",
            "\u001b[1m1688/1688\u001b[0m \u001b[32m━━━━━━━━━━━━━━━━━━━━\u001b[0m\u001b[37m\u001b[0m \u001b[1m9s\u001b[0m 4ms/step - accuracy: 0.9890 - loss: 0.0335 - val_accuracy: 0.9908 - val_loss: 0.0314\n",
            "Epoch 10/10\n",
            "\u001b[1m1688/1688\u001b[0m \u001b[32m━━━━━━━━━━━━━━━━━━━━\u001b[0m\u001b[37m\u001b[0m \u001b[1m10s\u001b[0m 4ms/step - accuracy: 0.9890 - loss: 0.0336 - val_accuracy: 0.9898 - val_loss: 0.0345\n"
          ]
        }
      ]
    },
    {
      "cell_type": "markdown",
      "source": [
        "# Plot the learning curve"
      ],
      "metadata": {
        "id": "ptRnE2rny9Tl"
      }
    },
    {
      "cell_type": "code",
      "source": [
        "plt .figure(figsize=(12, 4))\n",
        "plt.plot(hist.history[\"loss\"], label = \"Train loss\")\n",
        "plt.plot(hist.history[\"val_loss\"], label=\"Validation Loss\")\n",
        "plt.xlabel(\"Epochs\")\n",
        "plt.ylabel(\"Categorical Crossentropy Loss\")\n",
        "plt.title(\"Learning Curve\")\n",
        "plt.legend()\n",
        "plt.show()"
      ],
      "metadata": {
        "colab": {
          "base_uri": "https://localhost:8080/",
          "height": 259
        },
        "id": "obnkIMlCy7XH",
        "outputId": "d66543b7-6096-410b-acee-60fcffce747a"
      },
      "execution_count": 35,
      "outputs": [
        {
          "output_type": "display_data",
          "data": {
            "text/plain": [
              "<Figure size 1200x400 with 1 Axes>"
            ],
            "image/png": "[encoded data removed]"
          },
          "metadata": {}
        }
      ]
    },
    {
      "cell_type": "markdown",
      "source": [
        "# Model Evaluation"
      ],
      "metadata": {
        "id": "Ib1SjxiazqKU"
      }
    },
    {
      "cell_type": "code",
      "source": [
        "model.evaluate(xtrain_scl, ytrain_cat)"
      ],
      "metadata": {
        "colab": {
          "base_uri": "https://localhost:8080/"
        },
        "id": "1jERDCkizjKM",
        "outputId": "0accfc9e-7c9b-4dc6-b0c9-5bc2a8658275"
      },
      "execution_count": 36,
      "outputs": [
        {
          "output_type": "stream",
          "name": "stdout",
          "text": [
            "\u001b[1m1875/1875\u001b[0m \u001b[32m━━━━━━━━━━━━━━━━━━━━\u001b[0m\u001b[37m\u001b[0m \u001b[1m5s\u001b[0m 3ms/step - accuracy: 0.9949 - loss: 0.0156\n"
          ]
        },
        {
          "output_type": "execute_result",
          "data": {
            "text/plain": [
              "[0.01743713766336441, 0.9944000244140625]"
            ]
          },
          "metadata": {},
          "execution_count": 36
        }
      ]
    },
    {
      "cell_type": "code",
      "source": [
        "model.evaluate(xtest_scl, ytest_cat)"
      ],
      "metadata": {
        "colab": {
          "base_uri": "https://localhost:8080/"
        },
        "id": "RrjLT_sUzwBN",
        "outputId": "ae28eb0c-0a58-49b4-966d-9029c085a54c"
      },
      "execution_count": 37,
      "outputs": [
        {
          "output_type": "stream",
          "name": "stdout",
          "text": [
            "\u001b[1m313/313\u001b[0m \u001b[32m━━━━━━━━━━━━━━━━━━━━\u001b[0m\u001b[37m\u001b[0m \u001b[1m1s\u001b[0m 3ms/step - accuracy: 0.9899 - loss: 0.0316\n"
          ]
        },
        {
          "output_type": "execute_result",
          "data": {
            "text/plain": [
              "[0.025825150310993195, 0.9922999739646912]"
            ]
          },
          "metadata": {},
          "execution_count": 37
        }
      ]
    },
    {
      "cell_type": "code",
      "source": [
        "yprob_train = model.predict(xtrain_scl)\n",
        "yprob_train[0:5]"
      ],
      "metadata": {
        "colab": {
          "base_uri": "https://localhost:8080/"
        },
        "id": "9Og_fiMxz1o_",
        "outputId": "1b88324d-a0d0-46c9-d334-49ad46b0c055"
      },
      "execution_count": 38,
      "outputs": [
        {
          "output_type": "stream",
          "name": "stdout",
          "text": [
            "\u001b[1m1875/1875\u001b[0m \u001b[32m━━━━━━━━━━━━━━━━━━━━\u001b[0m\u001b[37m\u001b[0m \u001b[1m3s\u001b[0m 1ms/step\n"
          ]
        },
        {
          "output_type": "execute_result",
          "data": {
            "text/plain": [
              "array([[1.5989389e-10, 4.6247641e-12, 1.2672414e-09, 9.0013444e-03,\n",
              "        3.2732805e-12, 9.9093962e-01, 6.9996470e-12, 5.3826138e-08,\n",
              "        5.3781474e-05, 5.2870441e-06],\n",
              "       [9.9999797e-01, 3.8565898e-14, 6.1513555e-07, 5.9537542e-10,\n",
              "        2.9281463e-11, 2.0456488e-08, 3.2430177e-07, 1.2686407e-10,\n",
              "        5.9453998e-07, 5.2834207e-07],\n",
              "       [1.5963886e-14, 7.6948290e-08, 2.7819167e-08, 6.9213280e-10,\n",
              "        9.9999666e-01, 2.3510465e-08, 6.1893782e-11, 1.6868979e-06,\n",
              "        1.5138758e-08, 1.5658121e-06],\n",
              "       [2.8973371e-08, 9.9993622e-01, 3.0431875e-06, 3.8639745e-09,\n",
              "        2.2070315e-05, 2.2205928e-08, 4.3324223e-07, 2.2265889e-05,\n",
              "        1.5749478e-05, 1.7475463e-07],\n",
              "       [4.7122319e-12, 1.4635527e-09, 1.7207485e-08, 1.7683281e-08,\n",
              "        1.8226505e-04, 1.6434065e-08, 4.1662127e-13, 3.5338155e-06,\n",
              "        4.9964587e-05, 9.9976414e-01]], dtype=float32)"
            ]
          },
          "metadata": {},
          "execution_count": 38
        }
      ]
    },
    {
      "cell_type": "code",
      "source": [
        "ypred_train = np.argmax(yprob_train, axis =1)"
      ],
      "metadata": {
        "id": "dDardGGLz7_1"
      },
      "execution_count": 39,
      "outputs": []
    },
    {
      "cell_type": "code",
      "source": [
        "ypred_train[0:5]"
      ],
      "metadata": {
        "colab": {
          "base_uri": "https://localhost:8080/"
        },
        "id": "xOdnXjX70Fvy",
        "outputId": "6f2a32f4-78b0-4726-b858-fb428818e557"
      },
      "execution_count": 41,
      "outputs": [
        {
          "output_type": "execute_result",
          "data": {
            "text/plain": [
              "array([5, 0, 4, 1, 9])"
            ]
          },
          "metadata": {},
          "execution_count": 41
        }
      ]
    },
    {
      "cell_type": "code",
      "source": [
        "ytrain[0:5]"
      ],
      "metadata": {
        "colab": {
          "base_uri": "https://localhost:8080/"
        },
        "id": "dFNMOs9P0Hvr",
        "outputId": "0a8756e0-c3bd-43de-8761-c0e835a6e4c3"
      },
      "execution_count": 42,
      "outputs": [
        {
          "output_type": "execute_result",
          "data": {
            "text/plain": [
              "array([5, 0, 4, 1, 9], dtype=uint8)"
            ]
          },
          "metadata": {},
          "execution_count": 42
        }
      ]
    },
    {
      "cell_type": "code",
      "source": [
        "yprob_test = model.predict(xtest_scl)\n",
        "ypred_test = np.argmax(yprob_test, axis=1)\n",
        "ypred_test[0:5]"
      ],
      "metadata": {
        "colab": {
          "base_uri": "https://localhost:8080/"
        },
        "id": "8g0QraV90Ljt",
        "outputId": "a8f5b0a8-c88a-4ab6-8370-6de34af860dd"
      },
      "execution_count": 43,
      "outputs": [
        {
          "output_type": "stream",
          "name": "stdout",
          "text": [
            "\u001b[1m313/313\u001b[0m \u001b[32m━━━━━━━━━━━━━━━━━━━━\u001b[0m\u001b[37m\u001b[0m \u001b[1m1s\u001b[0m 3ms/step\n"
          ]
        },
        {
          "output_type": "execute_result",
          "data": {
            "text/plain": [
              "array([7, 2, 1, 0, 4])"
            ]
          },
          "metadata": {},
          "execution_count": 43
        }
      ]
    },
    {
      "cell_type": "code",
      "source": [
        "ytest[0:5]"
      ],
      "metadata": {
        "colab": {
          "base_uri": "https://localhost:8080/"
        },
        "id": "sMGAfUiM0bjS",
        "outputId": "5b2333ce-6a70-4178-bfe9-fa97893d21da"
      },
      "execution_count": 44,
      "outputs": [
        {
          "output_type": "execute_result",
          "data": {
            "text/plain": [
              "array([7, 2, 1, 0, 4], dtype=uint8)"
            ]
          },
          "metadata": {},
          "execution_count": 44
        }
      ]
    },
    {
      "cell_type": "code",
      "source": [
        "from sklearn.metrics import ConfusionMatrixDisplay\n",
        "ConfusionMatrixDisplay.from_predictions(ytest, ypred_test)"
      ],
      "metadata": {
        "colab": {
          "base_uri": "https://localhost:8080/",
          "height": 467
        },
        "id": "X-8TLmvK0ezE",
        "outputId": "6b05df92-4d68-47ca-f78e-46d161f556ce"
      },
      "execution_count": 45,
      "outputs": [
        {
          "output_type": "execute_result",
          "data": {
            "text/plain": [
              "<sklearn.metrics._plot.confusion_matrix.ConfusionMatrixDisplay at 0x7ba50c484750>"
            ]
          },
          "metadata": {},
          "execution_count": 45
        },
        {
          "output_type": "display_data",
          "data": {
            "text/plain": [
              "<Figure size 640x480 with 2 Axes>"
            ],
            "image/png": "[encoded data removed]"
          },
          "metadata": {}
        }
      ]
    },
    {
      "cell_type": "code",
      "source": [
        "from sklearn.metrics import classification_report\n",
        "print(classification_report(ytest, ypred_test))"
      ],
      "metadata": {
        "colab": {
          "base_uri": "https://localhost:8080/"
        },
        "id": "kU4DweQc0zDw",
        "outputId": "4d4f37c4-c057-46f8-f2fe-cc0683571a49"
      },
      "execution_count": 47,
      "outputs": [
        {
          "output_type": "stream",
          "name": "stdout",
          "text": [
            "              precision    recall  f1-score   support\n",
            "\n",
            "           0       1.00      0.99      1.00       980\n",
            "           1       1.00      1.00      1.00      1135\n",
            "           2       1.00      0.99      0.99      1032\n",
            "           3       0.99      1.00      0.99      1010\n",
            "           4       0.99      0.99      0.99       982\n",
            "           5       0.99      0.99      0.99       892\n",
            "           6       1.00      0.99      0.99       958\n",
            "           7       0.99      0.99      0.99      1028\n",
            "           8       0.98      0.99      0.99       974\n",
            "           9       1.00      0.98      0.99      1009\n",
            "\n",
            "    accuracy                           0.99     10000\n",
            "   macro avg       0.99      0.99      0.99     10000\n",
            "weighted avg       0.99      0.99      0.99     10000\n",
            "\n"
          ]
        }
      ]
    },
    {
      "cell_type": "markdown",
      "source": [
        "# From above results the model is good model because f1_macro>0.8"
      ],
      "metadata": {
        "id": "YdFijSI21B-9"
      }
    },
    {
      "cell_type": "markdown",
      "source": [
        "# Save the model"
      ],
      "metadata": {
        "id": "wIVwYsn51Ie8"
      }
    },
    {
      "cell_type": "code",
      "source": [
        "model.save(\"digit_model.keras\")"
      ],
      "metadata": {
        "id": "Hw9fdRuA093G"
      },
      "execution_count": 48,
      "outputs": []
    },
    {
      "cell_type": "markdown",
      "source": [
        "# Load the model"
      ],
      "metadata": {
        "id": "kPn0jiFO1OX0"
      }
    },
    {
      "cell_type": "code",
      "source": [
        "from keras.models import load_model\n",
        "m = load_model(\"/content/digit_model.keras\")\n",
        "m.summary()"
      ],
      "metadata": {
        "colab": {
          "base_uri": "https://localhost:8080/",
          "height": 396
        },
        "id": "R9YiZ_w71NZm",
        "outputId": "dcc38652-94ba-4800-d826-ac315eefa0d4"
      },
      "execution_count": 49,
      "outputs": [
        {
          "output_type": "display_data",
          "data": {
            "text/plain": [
              "\u001b[1mModel: \"sequential\"\u001b[0m\n"
            ],
            "text/html": [
              "<pre style=\"white-space:pre;overflow-x:auto;line-height:normal;font-family:Menlo,'DejaVu Sans Mono',consolas,'Courier New',monospace\"><span style=\"font-weight: bold\">Model: \"sequential\"</span>\n",
              "</pre>\n"
            ]
          },
          "metadata": {}
        },
        {
          "output_type": "display_data",
          "data": {
            "text/plain": [
              "┏━━━━━━━━━━━━━━━━━━━━━━━━━━━━━━━━━━━━━━┳━━━━━━━━━━━━━━━━━━━━━━━━━━━━━┳━━━━━━━━━━━━━━━━━┓\n",
              "┃\u001b[1m \u001b[0m\u001b[1mLayer (type)                        \u001b[0m\u001b[1m \u001b[0m┃\u001b[1m \u001b[0m\u001b[1mOutput Shape               \u001b[0m\u001b[1m \u001b[0m┃\u001b[1m \u001b[0m\u001b[1m        Param #\u001b[0m\u001b[1m \u001b[0m┃\n",
              "┡━━━━━━━━━━━━━━━━━━━━━━━━━━━━━━━━━━━━━━╇━━━━━━━━━━━━━━━━━━━━━━━━━━━━━╇━━━━━━━━━━━━━━━━━┩\n",
              "│ conv2d (\u001b[38;5;33mConv2D\u001b[0m)                      │ (\u001b[38;5;45mNone\u001b[0m, \u001b[38;5;34m26\u001b[0m, \u001b[38;5;34m26\u001b[0m, \u001b[38;5;34m32\u001b[0m)          │             \u001b[38;5;34m320\u001b[0m │\n",
              "├──────────────────────────────────────┼─────────────────────────────┼─────────────────┤\n",
              "│ max_pooling2d (\u001b[38;5;33mMaxPooling2D\u001b[0m)         │ (\u001b[38;5;45mNone\u001b[0m, \u001b[38;5;34m13\u001b[0m, \u001b[38;5;34m13\u001b[0m, \u001b[38;5;34m32\u001b[0m)          │               \u001b[38;5;34m0\u001b[0m │\n",
              "├──────────────────────────────────────┼─────────────────────────────┼─────────────────┤\n",
              "│ conv2d_1 (\u001b[38;5;33mConv2D\u001b[0m)                    │ (\u001b[38;5;45mNone\u001b[0m, \u001b[38;5;34m11\u001b[0m, \u001b[38;5;34m11\u001b[0m, \u001b[38;5;34m64\u001b[0m)          │          \u001b[38;5;34m18,496\u001b[0m │\n",
              "├──────────────────────────────────────┼─────────────────────────────┼─────────────────┤\n",
              "│ max_pooling2d_1 (\u001b[38;5;33mMaxPooling2D\u001b[0m)       │ (\u001b[38;5;45mNone\u001b[0m, \u001b[38;5;34m5\u001b[0m, \u001b[38;5;34m5\u001b[0m, \u001b[38;5;34m64\u001b[0m)            │               \u001b[38;5;34m0\u001b[0m │\n",
              "├──────────────────────────────────────┼─────────────────────────────┼─────────────────┤\n",
              "│ flatten (\u001b[38;5;33mFlatten\u001b[0m)                    │ (\u001b[38;5;45mNone\u001b[0m, \u001b[38;5;34m1600\u001b[0m)                │               \u001b[38;5;34m0\u001b[0m │\n",
              "├──────────────────────────────────────┼─────────────────────────────┼─────────────────┤\n",
              "│ dropout (\u001b[38;5;33mDropout\u001b[0m)                    │ (\u001b[38;5;45mNone\u001b[0m, \u001b[38;5;34m1600\u001b[0m)                │               \u001b[38;5;34m0\u001b[0m │\n",
              "├──────────────────────────────────────┼─────────────────────────────┼─────────────────┤\n",
              "│ dense (\u001b[38;5;33mDense\u001b[0m)                        │ (\u001b[38;5;45mNone\u001b[0m, \u001b[38;5;34m10\u001b[0m)                  │          \u001b[38;5;34m16,010\u001b[0m │\n",
              "└──────────────────────────────────────┴─────────────────────────────┴─────────────────┘\n"
            ],
            "text/html": [
              "<pre style=\"white-space:pre;overflow-x:auto;line-height:normal;font-family:Menlo,'DejaVu Sans Mono',consolas,'Courier New',monospace\">┏━━━━━━━━━━━━━━━━━━━━━━━━━━━━━━━━━━━━━━┳━━━━━━━━━━━━━━━━━━━━━━━━━━━━━┳━━━━━━━━━━━━━━━━━┓\n",
              "┃<span style=\"font-weight: bold\"> Layer (type)                         </span>┃<span style=\"font-weight: bold\"> Output Shape                </span>┃<span style=\"font-weight: bold\">         Param # </span>┃\n",
              "┡━━━━━━━━━━━━━━━━━━━━━━━━━━━━━━━━━━━━━━╇━━━━━━━━━━━━━━━━━━━━━━━━━━━━━╇━━━━━━━━━━━━━━━━━┩\n",
              "│ conv2d (<span style=\"color: #0087ff; text-decoration-color: #0087ff\">Conv2D</span>)                      │ (<span style=\"color: #00d7ff; text-decoration-color: #00d7ff\">None</span>, <span style=\"color: #00af00; text-decoration-color: #00af00\">26</span>, <span style=\"color: #00af00; text-decoration-color: #00af00\">26</span>, <span style=\"color: #00af00; text-decoration-color: #00af00\">32</span>)          │             <span style=\"color: #00af00; text-decoration-color: #00af00\">320</span> │\n",
              "├──────────────────────────────────────┼─────────────────────────────┼─────────────────┤\n",
              "│ max_pooling2d (<span style=\"color: #0087ff; text-decoration-color: #0087ff\">MaxPooling2D</span>)         │ (<span style=\"color: #00d7ff; text-decoration-color: #00d7ff\">None</span>, <span style=\"color: #00af00; text-decoration-color: #00af00\">13</span>, <span style=\"color: #00af00; text-decoration-color: #00af00\">13</span>, <span style=\"color: #00af00; text-decoration-color: #00af00\">32</span>)          │               <span style=\"color: #00af00; text-decoration-color: #00af00\">0</span> │\n",
              "├──────────────────────────────────────┼─────────────────────────────┼─────────────────┤\n",
              "│ conv2d_1 (<span style=\"color: #0087ff; text-decoration-color: #0087ff\">Conv2D</span>)                    │ (<span style=\"color: #00d7ff; text-decoration-color: #00d7ff\">None</span>, <span style=\"color: #00af00; text-decoration-color: #00af00\">11</span>, <span style=\"color: #00af00; text-decoration-color: #00af00\">11</span>, <span style=\"color: #00af00; text-decoration-color: #00af00\">64</span>)          │          <span style=\"color: #00af00; text-decoration-color: #00af00\">18,496</span> │\n",
              "├──────────────────────────────────────┼─────────────────────────────┼─────────────────┤\n",
              "│ max_pooling2d_1 (<span style=\"color: #0087ff; text-decoration-color: #0087ff\">MaxPooling2D</span>)       │ (<span style=\"color: #00d7ff; text-decoration-color: #00d7ff\">None</span>, <span style=\"color: #00af00; text-decoration-color: #00af00\">5</span>, <span style=\"color: #00af00; text-decoration-color: #00af00\">5</span>, <span style=\"color: #00af00; text-decoration-color: #00af00\">64</span>)            │               <span style=\"color: #00af00; text-decoration-color: #00af00\">0</span> │\n",
              "├──────────────────────────────────────┼─────────────────────────────┼─────────────────┤\n",
              "│ flatten (<span style=\"color: #0087ff; text-decoration-color: #0087ff\">Flatten</span>)                    │ (<span style=\"color: #00d7ff; text-decoration-color: #00d7ff\">None</span>, <span style=\"color: #00af00; text-decoration-color: #00af00\">1600</span>)                │               <span style=\"color: #00af00; text-decoration-color: #00af00\">0</span> │\n",
              "├──────────────────────────────────────┼─────────────────────────────┼─────────────────┤\n",
              "│ dropout (<span style=\"color: #0087ff; text-decoration-color: #0087ff\">Dropout</span>)                    │ (<span style=\"color: #00d7ff; text-decoration-color: #00d7ff\">None</span>, <span style=\"color: #00af00; text-decoration-color: #00af00\">1600</span>)                │               <span style=\"color: #00af00; text-decoration-color: #00af00\">0</span> │\n",
              "├──────────────────────────────────────┼─────────────────────────────┼─────────────────┤\n",
              "│ dense (<span style=\"color: #0087ff; text-decoration-color: #0087ff\">Dense</span>)                        │ (<span style=\"color: #00d7ff; text-decoration-color: #00d7ff\">None</span>, <span style=\"color: #00af00; text-decoration-color: #00af00\">10</span>)                  │          <span style=\"color: #00af00; text-decoration-color: #00af00\">16,010</span> │\n",
              "└──────────────────────────────────────┴─────────────────────────────┴─────────────────┘\n",
              "</pre>\n"
            ]
          },
          "metadata": {}
        },
        {
          "output_type": "display_data",
          "data": {
            "text/plain": [
              "\u001b[1m Total params: \u001b[0m\u001b[38;5;34m104,480\u001b[0m (408.13 KB)\n"
            ],
            "text/html": [
              "<pre style=\"white-space:pre;overflow-x:auto;line-height:normal;font-family:Menlo,'DejaVu Sans Mono',consolas,'Courier New',monospace\"><span style=\"font-weight: bold\"> Total params: </span><span style=\"color: #00af00; text-decoration-color: #00af00\">104,480</span> (408.13 KB)\n",
              "</pre>\n"
            ]
          },
          "metadata": {}
        },
        {
          "output_type": "display_data",
          "data": {
            "text/plain": [
              "\u001b[1m Trainable params: \u001b[0m\u001b[38;5;34m34,826\u001b[0m (136.04 KB)\n"
            ],
            "text/html": [
              "<pre style=\"white-space:pre;overflow-x:auto;line-height:normal;font-family:Menlo,'DejaVu Sans Mono',consolas,'Courier New',monospace\"><span style=\"font-weight: bold\"> Trainable params: </span><span style=\"color: #00af00; text-decoration-color: #00af00\">34,826</span> (136.04 KB)\n",
              "</pre>\n"
            ]
          },
          "metadata": {}
        },
        {
          "output_type": "display_data",
          "data": {
            "text/plain": [
              "\u001b[1m Non-trainable params: \u001b[0m\u001b[38;5;34m0\u001b[0m (0.00 B)\n"
            ],
            "text/html": [
              "<pre style=\"white-space:pre;overflow-x:auto;line-height:normal;font-family:Menlo,'DejaVu Sans Mono',consolas,'Courier New',monospace\"><span style=\"font-weight: bold\"> Non-trainable params: </span><span style=\"color: #00af00; text-decoration-color: #00af00\">0</span> (0.00 B)\n",
              "</pre>\n"
            ]
          },
          "metadata": {}
        },
        {
          "output_type": "display_data",
          "data": {
            "text/plain": [
              "\u001b[1m Optimizer params: \u001b[0m\u001b[38;5;34m69,654\u001b[0m (272.09 KB)\n"
            ],
            "text/html": [
              "<pre style=\"white-space:pre;overflow-x:auto;line-height:normal;font-family:Menlo,'DejaVu Sans Mono',consolas,'Courier New',monospace\"><span style=\"font-weight: bold\"> Optimizer params: </span><span style=\"color: #00af00; text-decoration-color: #00af00\">69,654</span> (272.09 KB)\n",
              "</pre>\n"
            ]
          },
          "metadata": {}
        }
      ]
    },
    {
      "cell_type": "markdown",
      "source": [
        "# Out of sample training"
      ],
      "metadata": {
        "id": "yG0WQrta1gg1"
      }
    },
    {
      "cell_type": "code",
      "source": [
        "import cv2"
      ],
      "metadata": {
        "id": "U1g_OjCp1emL"
      },
      "execution_count": 50,
      "outputs": []
    },
    {
      "cell_type": "code",
      "source": [
        "img = cv2.imread(\"/content/img7.png\", cv2.IMREAD_GRAYSCALE)\n",
        "img"
      ],
      "metadata": {
        "colab": {
          "base_uri": "https://localhost:8080/",
          "height": 68
        },
        "id": "DrgSf6F91kCX",
        "outputId": "e31abacd-e084-4b0c-c8aa-76515cdf156e"
      },
      "execution_count": 55,
      "outputs": [
        {
          "output_type": "execute_result",
          "data": {
            "text/plain": [
              "array([[250, 212, 207, 203, 203, 200, 204, 214, 251, 255, 255, 255, 255,\n",
              "        255, 255, 255, 255, 255, 255, 255, 255, 255, 255, 255, 255, 255,\n",
              "        255, 255],\n",
              "       [232,  36,  15,  50,  51,  53,  21,  37, 237, 255, 255, 255, 255,\n",
              "        255, 255, 255, 255, 255, 255, 255, 255, 255, 255, 255, 255, 255,\n",
              "        255, 255],\n",
              "       [231,  16,   0,  49,  52, 122,  30,  14, 236, 255, 255, 255, 255,\n",
              "        255, 255, 255, 255, 255, 255, 255, 255, 255, 255, 255, 255, 255,\n",
              "        255, 255],\n",
              "       [232,  24,   0,   5,  57,  89,   4,  27, 237, 255, 255, 255, 255,\n",
              "        255, 255, 255, 255, 255, 255, 255, 255, 255, 255, 255, 255, 255,\n",
              "        255, 255],\n",
              "       [232,  24,   0,  10,  89,  18,   0,  29, 237, 255, 255, 255, 255,\n",
              "        255, 255, 255, 255, 255, 255, 255, 255, 255, 255, 255, 255, 255,\n",
              "        255, 255],\n",
              "       [232,  24,   0,  48,  67,   0,   0,  29, 237, 255, 255, 255, 255,\n",
              "        255, 255, 255, 255, 255, 255, 255, 255, 255, 255, 255, 255, 255,\n",
              "        255, 255],\n",
              "       [232,  24,   0,  65,  26,   0,   0,  29, 237, 255, 255, 255, 255,\n",
              "        255, 255, 255, 255, 255, 255, 255, 255, 255, 255, 255, 255, 255,\n",
              "        255, 255],\n",
              "       [231,  18,   0,  55,   6,   0,   0,  23, 236, 255, 255, 255, 255,\n",
              "        255, 255, 255, 255, 255, 255, 255, 255, 255, 255, 255, 255, 255,\n",
              "        255, 255],\n",
              "       [232,  33,  11,  23,  13,  11,  11,  36, 237, 255, 255, 255, 255,\n",
              "        255, 255, 255, 255, 255, 255, 255, 255, 255, 255, 255, 255, 255,\n",
              "        255, 255],\n",
              "       [249, 194, 186, 184, 187, 188, 186, 195, 250, 255, 255, 255, 255,\n",
              "        255, 255, 255, 255, 255, 255, 255, 255, 255, 255, 255, 255, 255,\n",
              "        255, 255],\n",
              "       [255, 255, 255, 255, 255, 255, 255, 255, 255, 255, 255, 255, 255,\n",
              "        255, 255, 255, 255, 255, 255, 255, 255, 255, 255, 255, 255, 255,\n",
              "        255, 255],\n",
              "       [255, 255, 255, 255, 255, 255, 255, 255, 255, 255, 255, 255, 255,\n",
              "        255, 255, 255, 255, 255, 255, 255, 255, 255, 255, 255, 255, 255,\n",
              "        255, 255],\n",
              "       [255, 255, 255, 255, 255, 255, 255, 255, 255, 255, 255, 255, 255,\n",
              "        255, 255, 255, 255, 255, 255, 255, 255, 255, 255, 255, 255, 255,\n",
              "        255, 255],\n",
              "       [255, 255, 255, 255, 255, 255, 255, 255, 255, 255, 255, 255, 255,\n",
              "        255, 255, 255, 255, 255, 255, 255, 255, 255, 255, 255, 255, 255,\n",
              "        255, 255],\n",
              "       [255, 255, 255, 255, 255, 255, 255, 255, 255, 255, 255, 255, 255,\n",
              "        255, 255, 255, 255, 255, 255, 255, 255, 255, 255, 255, 255, 255,\n",
              "        255, 255],\n",
              "       [255, 255, 255, 255, 255, 255, 255, 255, 255, 255, 255, 255, 255,\n",
              "        255, 255, 255, 255, 255, 255, 255, 255, 255, 255, 255, 255, 255,\n",
              "        255, 255],\n",
              "       [255, 255, 255, 255, 255, 255, 255, 255, 255, 255, 255, 255, 255,\n",
              "        255, 255, 255, 255, 255, 255, 255, 255, 255, 255, 255, 255, 255,\n",
              "        255, 255],\n",
              "       [255, 255, 255, 255, 255, 255, 255, 255, 255, 255, 255, 255, 255,\n",
              "        255, 255, 255, 255, 255, 255, 255, 255, 255, 255, 255, 255, 255,\n",
              "        255, 255],\n",
              "       [255, 255, 255, 255, 255, 255, 255, 255, 255, 255, 255, 255, 255,\n",
              "        255, 255, 255, 255, 255, 255, 255, 255, 255, 255, 255, 255, 255,\n",
              "        255, 255],\n",
              "       [255, 255, 255, 255, 255, 255, 255, 255, 255, 255, 255, 255, 255,\n",
              "        255, 255, 255, 255, 255, 255, 255, 255, 255, 255, 255, 255, 255,\n",
              "        255, 255],\n",
              "       [255, 255, 255, 255, 255, 255, 255, 255, 255, 255, 255, 255, 255,\n",
              "        255, 255, 255, 255, 255, 255, 255, 255, 255, 255, 255, 255, 255,\n",
              "        255, 255],\n",
              "       [255, 255, 255, 255, 255, 255, 255, 255, 255, 255, 255, 255, 255,\n",
              "        255, 255, 255, 255, 255, 255, 255, 255, 255, 255, 255, 255, 255,\n",
              "        255, 255],\n",
              "       [255, 255, 255, 255, 255, 255, 255, 255, 255, 255, 255, 255, 255,\n",
              "        255, 255, 255, 255, 255, 255, 255, 255, 255, 255, 255, 255, 255,\n",
              "        255, 255],\n",
              "       [255, 255, 255, 255, 255, 255, 255, 255, 255, 255, 255, 255, 255,\n",
              "        255, 255, 255, 255, 255, 255, 255, 255, 255, 255, 255, 255, 255,\n",
              "        255, 255],\n",
              "       [255, 255, 255, 255, 255, 255, 255, 255, 255, 255, 255, 255, 255,\n",
              "        255, 255, 255, 255, 255, 255, 255, 255, 255, 255, 255, 255, 255,\n",
              "        255, 255],\n",
              "       [255, 255, 255, 255, 255, 255, 255, 255, 255, 255, 255, 255, 255,\n",
              "        255, 255, 255, 255, 255, 255, 255, 255, 255, 255, 255, 255, 255,\n",
              "        255, 255],\n",
              "       [255, 255, 255, 255, 255, 255, 255, 255, 255, 255, 255, 255, 255,\n",
              "        255, 255, 255, 255, 255, 255, 255, 255, 255, 255, 255, 255, 255,\n",
              "        255, 255],\n",
              "       [255, 255, 255, 255, 255, 255, 255, 255, 255, 255, 255, 255, 255,\n",
              "        255, 255, 255, 255, 255, 255, 255, 255, 255, 255, 255, 255, 255,\n",
              "        255, 255]], dtype=uint8)"
            ],
            "text/html": [
              "<style>\n",
              "      .ndarray_repr .ndarray_raw_data {\n",
              "        display: none;\n",
              "      }\n",
              "      .ndarray_repr.show_array .ndarray_raw_data {\n",
              "        display: block;\n",
              "      }\n",
              "      .ndarray_repr.show_array .ndarray_image_preview {\n",
              "        display: none;\n",
              "      }\n",
              "      </style>\n",
              "      <div id=\"id-c0d23a4b-168c-4ad6-9c58-df0e51049c11\" class=\"ndarray_repr\"><pre>ndarray (28, 28) <button style=\"padding: 0 2px;\">show data</button></pre><img src=\"data:image/png;base64,iVBORw0KGgoAAAANSUhEUgAAABwAAAAcCAAAAABXZoBIAAAAiElEQVR4nGP8dev3H4a/LFyqLAwYgPGFzWtlRqYHAieEMCWZ/r/5+J/RlfPlf0w5BiZGDoYrrPef8TJik2RgYGBV2PmHCYscAxMDA4Paq3fYpCCSgtexyzEw/f/F8O0NA8MvbA5iYeT/+YCdlQGrgxh/nvzxj5nxH6c5KxZJbMYhO2hUcoRIAgAQOSSTPIrnuQAAAABJRU5ErkJggg==\" class=\"ndarray_image_preview\" /><pre class=\"ndarray_raw_data\">array([[250, 212, 207, 203, 203, 200, 204, 214, 251, 255, 255, 255, 255,\n",
              "        255, 255, 255, 255, 255, 255, 255, 255, 255, 255, 255, 255, 255,\n",
              "        255, 255],\n",
              "       [232,  36,  15,  50,  51,  53,  21,  37, 237, 255, 255, 255, 255,\n",
              "        255, 255, 255, 255, 255, 255, 255, 255, 255, 255, 255, 255, 255,\n",
              "        255, 255],\n",
              "       [231,  16,   0,  49,  52, 122,  30,  14, 236, 255, 255, 255, 255,\n",
              "        255, 255, 255, 255, 255, 255, 255, 255, 255, 255, 255, 255, 255,\n",
              "        255, 255],\n",
              "       [232,  24,   0,   5,  57,  89,   4,  27, 237, 255, 255, 255, 255,\n",
              "        255, 255, 255, 255, 255, 255, 255, 255, 255, 255, 255, 255, 255,\n",
              "        255, 255],\n",
              "       [232,  24,   0,  10,  89,  18,   0,  29, 237, 255, 255, 255, 255,\n",
              "        255, 255, 255, 255, 255, 255, 255, 255, 255, 255, 255, 255, 255,\n",
              "        255, 255],\n",
              "       [232,  24,   0,  48,  67,   0,   0,  29, 237, 255, 255, 255, 255,\n",
              "        255, 255, 255, 255, 255, 255, 255, 255, 255, 255, 255, 255, 255,\n",
              "        255, 255],\n",
              "       [232,  24,   0,  65,  26,   0,   0,  29, 237, 255, 255, 255, 255,\n",
              "        255, 255, 255, 255, 255, 255, 255, 255, 255, 255, 255, 255, 255,\n",
              "        255, 255],\n",
              "       [231,  18,   0,  55,   6,   0,   0,  23, 236, 255, 255, 255, 255,\n",
              "        255, 255, 255, 255, 255, 255, 255, 255, 255, 255, 255, 255, 255,\n",
              "        255, 255],\n",
              "       [232,  33,  11,  23,  13,  11,  11,  36, 237, 255, 255, 255, 255,\n",
              "        255, 255, 255, 255, 255, 255, 255, 255, 255, 255, 255, 255, 255,\n",
              "        255, 255],\n",
              "       [249, 194, 186, 184, 187, 188, 186, 195, 250, 255, 255, 255, 255,\n",
              "        255, 255, 255, 255, 255, 255, 255, 255, 255, 255, 255, 255, 255,\n",
              "        255, 255],\n",
              "       [255, 255, 255, 255, 255, 255, 255, 255, 255, 255, 255, 255, 255,\n",
              "        255, 255, 255, 255, 255, 255, 255, 255, 255, 255, 255, 255, 255,\n",
              "        255, 255],\n",
              "       [255, 255, 255, 255, 255, 255, 255, 255, 255, 255, 255, 255, 255,\n",
              "        255, 255, 255, 255, 255, 255, 255, 255, 255, 255, 255, 255, 255,\n",
              "        255, 255],\n",
              "       [255, 255, 255, 255, 255, 255, 255, 255, 255, 255, 255, 255, 255,\n",
              "        255, 255, 255, 255, 255, 255, 255, 255, 255, 255, 255, 255, 255,\n",
              "        255, 255],\n",
              "       [255, 255, 255, 255, 255, 255, 255, 255, 255, 255, 255, 255, 255,\n",
              "        255, 255, 255, 255, 255, 255, 255, 255, 255, 255, 255, 255, 255,\n",
              "        255, 255],\n",
              "       [255, 255, 255, 255, 255, 255, 255, 255, 255, 255, 255, 255, 255,\n",
              "        255, 255, 255, 255, 255, 255, 255, 255, 255, 255, 255, 255, 255,\n",
              "        255, 255],\n",
              "       [255, 255, 255, 255, 255, 255, 255, 255, 255, 255, 255, 255, 255,\n",
              "        255, 255, 255, 255, 255, 255, 255, 255, 255, 255, 255, 255, 255,\n",
              "        255, 255],\n",
              "       [255, 255, 255, 255, 255, 255, 255, 255, 255, 255, 255, 255, 255,\n",
              "        255, 255, 255, 255, 255, 255, 255, 255, 255, 255, 255, 255, 255,\n",
              "        255, 255],\n",
              "       [255, 255, 255, 255, 255, 255, 255, 255, 255, 255, 255, 255, 255,\n",
              "        255, 255, 255, 255, 255, 255, 255, 255, 255, 255, 255, 255, 255,\n",
              "        255, 255],\n",
              "       [255, 255, 255, 255, 255, 255, 255, 255, 255, 255, 255, 255, 255,\n",
              "        255, 255, 255, 255, 255, 255, 255, 255, 255, 255, 255, 255, 255,\n",
              "        255, 255],\n",
              "       [255, 255, 255, 255, 255, 255, 255, 255, 255, 255, 255, 255, 255,\n",
              "        255, 255, 255, 255, 255, 255, 255, 255, 255, 255, 255, 255, 255,\n",
              "        255, 255],\n",
              "       [255, 255, 255, 255, 255, 255, 255, 255, 255, 255, 255, 255, 255,\n",
              "        255, 255, 255, 255, 255, 255, 255, 255, 255, 255, 255, 255, 255,\n",
              "        255, 255],\n",
              "       [255, 255, 255, 255, 255, 255, 255, 255, 255, 255, 255, 255, 255,\n",
              "        255, 255, 255, 255, 255, 255, 255, 255, 255, 255, 255, 255, 255,\n",
              "        255, 255],\n",
              "       [255, 255, 255, 255, 255, 255, 255, 255, 255, 255, 255, 255, 255,\n",
              "        255, 255, 255, 255, 255, 255, 255, 255, 255, 255, 255, 255, 255,\n",
              "        255, 255],\n",
              "       [255, 255, 255, 255, 255, 255, 255, 255, 255, 255, 255, 255, 255,\n",
              "        255, 255, 255, 255, 255, 255, 255, 255, 255, 255, 255, 255, 255,\n",
              "        255, 255],\n",
              "       [255, 255, 255, 255, 255, 255, 255, 255, 255, 255, 255, 255, 255,\n",
              "        255, 255, 255, 255, 255, 255, 255, 255, 255, 255, 255, 255, 255,\n",
              "        255, 255],\n",
              "       [255, 255, 255, 255, 255, 255, 255, 255, 255, 255, 255, 255, 255,\n",
              "        255, 255, 255, 255, 255, 255, 255, 255, 255, 255, 255, 255, 255,\n",
              "        255, 255],\n",
              "       [255, 255, 255, 255, 255, 255, 255, 255, 255, 255, 255, 255, 255,\n",
              "        255, 255, 255, 255, 255, 255, 255, 255, 255, 255, 255, 255, 255,\n",
              "        255, 255],\n",
              "       [255, 255, 255, 255, 255, 255, 255, 255, 255, 255, 255, 255, 255,\n",
              "        255, 255, 255, 255, 255, 255, 255, 255, 255, 255, 255, 255, 255,\n",
              "        255, 255]], dtype=uint8)</pre></div><script>\n",
              "      (() => {\n",
              "      const titles = ['show data', 'hide data'];\n",
              "      let index = 0\n",
              "      document.querySelector('#id-c0d23a4b-168c-4ad6-9c58-df0e51049c11 button').onclick = (e) => {\n",
              "        document.querySelector('#id-c0d23a4b-168c-4ad6-9c58-df0e51049c11').classList.toggle('show_array');\n",
              "        index = (++index) % 2;\n",
              "        document.querySelector('#id-c0d23a4b-168c-4ad6-9c58-df0e51049c11 button').textContent = titles[index];\n",
              "        e.preventDefault();\n",
              "        e.stopPropagation();\n",
              "      }\n",
              "      })();\n",
              "    </script>"
            ]
          },
          "metadata": {},
          "execution_count": 55
        }
      ]
    },
    {
      "cell_type": "code",
      "source": [
        "plt.imshow(img, cmap=\"gray\")\n",
        "plt.show()"
      ],
      "metadata": {
        "colab": {
          "base_uri": "https://localhost:8080/",
          "height": 430
        },
        "id": "aZosZMyT2alA",
        "outputId": "46cf9c33-d3ab-44ad-9a2c-d438d3c896ec"
      },
      "execution_count": 56,
      "outputs": [
        {
          "output_type": "display_data",
          "data": {
            "text/plain": [
              "<Figure size 640x480 with 1 Axes>"
            ],
            "image/png": "[encoded data removed]"
          },
          "metadata": {}
        }
      ]
    },
    {
      "cell_type": "code",
      "source": [
        "img_scl = img.astype(\"float32\")/255\n"
      ],
      "metadata": {
        "id": "kCFiwmiU2od2"
      },
      "execution_count": 58,
      "outputs": []
    },
    {
      "cell_type": "code",
      "source": [
        "img_scl = img_scl.reshape(1, 28, 28, 1)"
      ],
      "metadata": {
        "id": "8C3IDInu3181"
      },
      "execution_count": 59,
      "outputs": []
    },
    {
      "cell_type": "code",
      "source": [
        "img_scl"
      ],
      "metadata": {
        "colab": {
          "base_uri": "https://localhost:8080/"
        },
        "id": "xRqAtVYB3_VV",
        "outputId": "92e5c901-5d0b-4cf2-eb9d-ae25c0733cf4"
      },
      "execution_count": 60,
      "outputs": [
        {
          "output_type": "execute_result",
          "data": {
            "text/plain": [
              "array([[[[0.98039216],\n",
              "         [0.83137256],\n",
              "         [0.8117647 ],\n",
              "         [0.79607844],\n",
              "         [0.79607844],\n",
              "         [0.78431374],\n",
              "         [0.8       ],\n",
              "         [0.8392157 ],\n",
              "         [0.9843137 ],\n",
              "         [1.        ],\n",
              "         [1.        ],\n",
              "         [1.        ],\n",
              "         [1.        ],\n",
              "         [1.        ],\n",
              "         [1.        ],\n",
              "         [1.        ],\n",
              "         [1.        ],\n",
              "         [1.        ],\n",
              "         [1.        ],\n",
              "         [1.        ],\n",
              "         [1.        ],\n",
              "         [1.        ],\n",
              "         [1.        ],\n",
              "         [1.        ],\n",
              "         [1.        ],\n",
              "         [1.        ],\n",
              "         [1.        ],\n",
              "         [1.        ]],\n",
              "\n",
              "        [[0.9098039 ],\n",
              "         [0.14117648],\n",
              "         [0.05882353],\n",
              "         [0.19607843],\n",
              "         [0.2       ],\n",
              "         [0.20784314],\n",
              "         [0.08235294],\n",
              "         [0.14509805],\n",
              "         [0.92941177],\n",
              "         [1.        ],\n",
              "         [1.        ],\n",
              "         [1.        ],\n",
              "         [1.        ],\n",
              "         [1.        ],\n",
              "         [1.        ],\n",
              "         [1.        ],\n",
              "         [1.        ],\n",
              "         [1.        ],\n",
              "         [1.        ],\n",
              "         [1.        ],\n",
              "         [1.        ],\n",
              "         [1.        ],\n",
              "         [1.        ],\n",
              "         [1.        ],\n",
              "         [1.        ],\n",
              "         [1.        ],\n",
              "         [1.        ],\n",
              "         [1.        ]],\n",
              "\n",
              "        [[0.90588236],\n",
              "         [0.0627451 ],\n",
              "         [0.        ],\n",
              "         [0.19215687],\n",
              "         [0.20392157],\n",
              "         [0.47843137],\n",
              "         [0.11764706],\n",
              "         [0.05490196],\n",
              "         [0.9254902 ],\n",
              "         [1.        ],\n",
              "         [1.        ],\n",
              "         [1.        ],\n",
              "         [1.        ],\n",
              "         [1.        ],\n",
              "         [1.        ],\n",
              "         [1.        ],\n",
              "         [1.        ],\n",
              "         [1.        ],\n",
              "         [1.        ],\n",
              "         [1.        ],\n",
              "         [1.        ],\n",
              "         [1.        ],\n",
              "         [1.        ],\n",
              "         [1.        ],\n",
              "         [1.        ],\n",
              "         [1.        ],\n",
              "         [1.        ],\n",
              "         [1.        ]],\n",
              "\n",
              "        [[0.9098039 ],\n",
              "         [0.09411765],\n",
              "         [0.        ],\n",
              "         [0.01960784],\n",
              "         [0.22352941],\n",
              "         [0.34901962],\n",
              "         [0.01568628],\n",
              "         [0.10588235],\n",
              "         [0.92941177],\n",
              "         [1.        ],\n",
              "         [1.        ],\n",
              "         [1.        ],\n",
              "         [1.        ],\n",
              "         [1.        ],\n",
              "         [1.        ],\n",
              "         [1.        ],\n",
              "         [1.        ],\n",
              "         [1.        ],\n",
              "         [1.        ],\n",
              "         [1.        ],\n",
              "         [1.        ],\n",
              "         [1.        ],\n",
              "         [1.        ],\n",
              "         [1.        ],\n",
              "         [1.        ],\n",
              "         [1.        ],\n",
              "         [1.        ],\n",
              "         [1.        ]],\n",
              "\n",
              "        [[0.9098039 ],\n",
              "         [0.09411765],\n",
              "         [0.        ],\n",
              "         [0.03921569],\n",
              "         [0.34901962],\n",
              "         [0.07058824],\n",
              "         [0.        ],\n",
              "         [0.11372549],\n",
              "         [0.92941177],\n",
              "         [1.        ],\n",
              "         [1.        ],\n",
              "         [1.        ],\n",
              "         [1.        ],\n",
              "         [1.        ],\n",
              "         [1.        ],\n",
              "         [1.        ],\n",
              "         [1.        ],\n",
              "         [1.        ],\n",
              "         [1.        ],\n",
              "         [1.        ],\n",
              "         [1.        ],\n",
              "         [1.        ],\n",
              "         [1.        ],\n",
              "         [1.        ],\n",
              "         [1.        ],\n",
              "         [1.        ],\n",
              "         [1.        ],\n",
              "         [1.        ]],\n",
              "\n",
              "        [[0.9098039 ],\n",
              "         [0.09411765],\n",
              "         [0.        ],\n",
              "         [0.1882353 ],\n",
              "         [0.2627451 ],\n",
              "         [0.        ],\n",
              "         [0.        ],\n",
              "         [0.11372549],\n",
              "         [0.92941177],\n",
              "         [1.        ],\n",
              "         [1.        ],\n",
              "         [1.        ],\n",
              "         [1.        ],\n",
              "         [1.        ],\n",
              "         [1.        ],\n",
              "         [1.        ],\n",
              "         [1.        ],\n",
              "         [1.        ],\n",
              "         [1.        ],\n",
              "         [1.        ],\n",
              "         [1.        ],\n",
              "         [1.        ],\n",
              "         [1.        ],\n",
              "         [1.        ],\n",
              "         [1.        ],\n",
              "         [1.        ],\n",
              "         [1.        ],\n",
              "         [1.        ]],\n",
              "\n",
              "        [[0.9098039 ],\n",
              "         [0.09411765],\n",
              "         [0.        ],\n",
              "         [0.25490198],\n",
              "         [0.10196079],\n",
              "         [0.        ],\n",
              "         [0.        ],\n",
              "         [0.11372549],\n",
              "         [0.92941177],\n",
              "         [1.        ],\n",
              "         [1.        ],\n",
              "         [1.        ],\n",
              "         [1.        ],\n",
              "         [1.        ],\n",
              "         [1.        ],\n",
              "         [1.        ],\n",
              "         [1.        ],\n",
              "         [1.        ],\n",
              "         [1.        ],\n",
              "         [1.        ],\n",
              "         [1.        ],\n",
              "         [1.        ],\n",
              "         [1.        ],\n",
              "         [1.        ],\n",
              "         [1.        ],\n",
              "         [1.        ],\n",
              "         [1.        ],\n",
              "         [1.        ]],\n",
              "\n",
              "        [[0.90588236],\n",
              "         [0.07058824],\n",
              "         [0.        ],\n",
              "         [0.21568628],\n",
              "         [0.02352941],\n",
              "         [0.        ],\n",
              "         [0.        ],\n",
              "         [0.09019608],\n",
              "         [0.9254902 ],\n",
              "         [1.        ],\n",
              "         [1.        ],\n",
              "         [1.        ],\n",
              "         [1.        ],\n",
              "         [1.        ],\n",
              "         [1.        ],\n",
              "         [1.        ],\n",
              "         [1.        ],\n",
              "         [1.        ],\n",
              "         [1.        ],\n",
              "         [1.        ],\n",
              "         [1.        ],\n",
              "         [1.        ],\n",
              "         [1.        ],\n",
              "         [1.        ],\n",
              "         [1.        ],\n",
              "         [1.        ],\n",
              "         [1.        ],\n",
              "         [1.        ]],\n",
              "\n",
              "        [[0.9098039 ],\n",
              "         [0.12941177],\n",
              "         [0.04313726],\n",
              "         [0.09019608],\n",
              "         [0.05098039],\n",
              "         [0.04313726],\n",
              "         [0.04313726],\n",
              "         [0.14117648],\n",
              "         [0.92941177],\n",
              "         [1.        ],\n",
              "         [1.        ],\n",
              "         [1.        ],\n",
              "         [1.        ],\n",
              "         [1.        ],\n",
              "         [1.        ],\n",
              "         [1.        ],\n",
              "         [1.        ],\n",
              "         [1.        ],\n",
              "         [1.        ],\n",
              "         [1.        ],\n",
              "         [1.        ],\n",
              "         [1.        ],\n",
              "         [1.        ],\n",
              "         [1.        ],\n",
              "         [1.        ],\n",
              "         [1.        ],\n",
              "         [1.        ],\n",
              "         [1.        ]],\n",
              "\n",
              "        [[0.9764706 ],\n",
              "         [0.7607843 ],\n",
              "         [0.7294118 ],\n",
              "         [0.72156864],\n",
              "         [0.73333335],\n",
              "         [0.7372549 ],\n",
              "         [0.7294118 ],\n",
              "         [0.7647059 ],\n",
              "         [0.98039216],\n",
              "         [1.        ],\n",
              "         [1.        ],\n",
              "         [1.        ],\n",
              "         [1.        ],\n",
              "         [1.        ],\n",
              "         [1.        ],\n",
              "         [1.        ],\n",
              "         [1.        ],\n",
              "         [1.        ],\n",
              "         [1.        ],\n",
              "         [1.        ],\n",
              "         [1.        ],\n",
              "         [1.        ],\n",
              "         [1.        ],\n",
              "         [1.        ],\n",
              "         [1.        ],\n",
              "         [1.        ],\n",
              "         [1.        ],\n",
              "         [1.        ]],\n",
              "\n",
              "        [[1.        ],\n",
              "         [1.        ],\n",
              "         [1.        ],\n",
              "         [1.        ],\n",
              "         [1.        ],\n",
              "         [1.        ],\n",
              "         [1.        ],\n",
              "         [1.        ],\n",
              "         [1.        ],\n",
              "         [1.        ],\n",
              "         [1.        ],\n",
              "         [1.        ],\n",
              "         [1.        ],\n",
              "         [1.        ],\n",
              "         [1.        ],\n",
              "         [1.        ],\n",
              "         [1.        ],\n",
              "         [1.        ],\n",
              "         [1.        ],\n",
              "         [1.        ],\n",
              "         [1.        ],\n",
              "         [1.        ],\n",
              "         [1.        ],\n",
              "         [1.        ],\n",
              "         [1.        ],\n",
              "         [1.        ],\n",
              "         [1.        ],\n",
              "         [1.        ]],\n",
              "\n",
              "        [[1.        ],\n",
              "         [1.        ],\n",
              "         [1.        ],\n",
              "         [1.        ],\n",
              "         [1.        ],\n",
              "         [1.        ],\n",
              "         [1.        ],\n",
              "         [1.        ],\n",
              "         [1.        ],\n",
              "         [1.        ],\n",
              "         [1.        ],\n",
              "         [1.        ],\n",
              "         [1.        ],\n",
              "         [1.        ],\n",
              "         [1.        ],\n",
              "         [1.        ],\n",
              "         [1.        ],\n",
              "         [1.        ],\n",
              "         [1.        ],\n",
              "         [1.        ],\n",
              "         [1.        ],\n",
              "         [1.        ],\n",
              "         [1.        ],\n",
              "         [1.        ],\n",
              "         [1.        ],\n",
              "         [1.        ],\n",
              "         [1.        ],\n",
              "         [1.        ]],\n",
              "\n",
              "        [[1.        ],\n",
              "         [1.        ],\n",
              "         [1.        ],\n",
              "         [1.        ],\n",
              "         [1.        ],\n",
              "         [1.        ],\n",
              "         [1.        ],\n",
              "         [1.        ],\n",
              "         [1.        ],\n",
              "         [1.        ],\n",
              "         [1.        ],\n",
              "         [1.        ],\n",
              "         [1.        ],\n",
              "         [1.        ],\n",
              "         [1.        ],\n",
              "         [1.        ],\n",
              "         [1.        ],\n",
              "         [1.        ],\n",
              "         [1.        ],\n",
              "         [1.        ],\n",
              "         [1.        ],\n",
              "         [1.        ],\n",
              "         [1.        ],\n",
              "         [1.        ],\n",
              "         [1.        ],\n",
              "         [1.        ],\n",
              "         [1.        ],\n",
              "         [1.        ]],\n",
              "\n",
              "        [[1.        ],\n",
              "         [1.        ],\n",
              "         [1.        ],\n",
              "         [1.        ],\n",
              "         [1.        ],\n",
              "         [1.        ],\n",
              "         [1.        ],\n",
              "         [1.        ],\n",
              "         [1.        ],\n",
              "         [1.        ],\n",
              "         [1.        ],\n",
              "         [1.        ],\n",
              "         [1.        ],\n",
              "         [1.        ],\n",
              "         [1.        ],\n",
              "         [1.        ],\n",
              "         [1.        ],\n",
              "         [1.        ],\n",
              "         [1.        ],\n",
              "         [1.        ],\n",
              "         [1.        ],\n",
              "         [1.        ],\n",
              "         [1.        ],\n",
              "         [1.        ],\n",
              "         [1.        ],\n",
              "         [1.        ],\n",
              "         [1.        ],\n",
              "         [1.        ]],\n",
              "\n",
              "        [[1.        ],\n",
              "         [1.        ],\n",
              "         [1.        ],\n",
              "         [1.        ],\n",
              "         [1.        ],\n",
              "         [1.        ],\n",
              "         [1.        ],\n",
              "         [1.        ],\n",
              "         [1.        ],\n",
              "         [1.        ],\n",
              "         [1.        ],\n",
              "         [1.        ],\n",
              "         [1.        ],\n",
              "         [1.        ],\n",
              "         [1.        ],\n",
              "         [1.        ],\n",
              "         [1.        ],\n",
              "         [1.        ],\n",
              "         [1.        ],\n",
              "         [1.        ],\n",
              "         [1.        ],\n",
              "         [1.        ],\n",
              "         [1.        ],\n",
              "         [1.        ],\n",
              "         [1.        ],\n",
              "         [1.        ],\n",
              "         [1.        ],\n",
              "         [1.        ]],\n",
              "\n",
              "        [[1.        ],\n",
              "         [1.        ],\n",
              "         [1.        ],\n",
              "         [1.        ],\n",
              "         [1.        ],\n",
              "         [1.        ],\n",
              "         [1.        ],\n",
              "         [1.        ],\n",
              "         [1.        ],\n",
              "         [1.        ],\n",
              "         [1.        ],\n",
              "         [1.        ],\n",
              "         [1.        ],\n",
              "         [1.        ],\n",
              "         [1.        ],\n",
              "         [1.        ],\n",
              "         [1.        ],\n",
              "         [1.        ],\n",
              "         [1.        ],\n",
              "         [1.        ],\n",
              "         [1.        ],\n",
              "         [1.        ],\n",
              "         [1.        ],\n",
              "         [1.        ],\n",
              "         [1.        ],\n",
              "         [1.        ],\n",
              "         [1.        ],\n",
              "         [1.        ]],\n",
              "\n",
              "        [[1.        ],\n",
              "         [1.        ],\n",
              "         [1.        ],\n",
              "         [1.        ],\n",
              "         [1.        ],\n",
              "         [1.        ],\n",
              "         [1.        ],\n",
              "         [1.        ],\n",
              "         [1.        ],\n",
              "         [1.        ],\n",
              "         [1.        ],\n",
              "         [1.        ],\n",
              "         [1.        ],\n",
              "         [1.        ],\n",
              "         [1.        ],\n",
              "         [1.        ],\n",
              "         [1.        ],\n",
              "         [1.        ],\n",
              "         [1.        ],\n",
              "         [1.        ],\n",
              "         [1.        ],\n",
              "         [1.        ],\n",
              "         [1.        ],\n",
              "         [1.        ],\n",
              "         [1.        ],\n",
              "         [1.        ],\n",
              "         [1.        ],\n",
              "         [1.        ]],\n",
              "\n",
              "        [[1.        ],\n",
              "         [1.        ],\n",
              "         [1.        ],\n",
              "         [1.        ],\n",
              "         [1.        ],\n",
              "         [1.        ],\n",
              "         [1.        ],\n",
              "         [1.        ],\n",
              "         [1.        ],\n",
              "         [1.        ],\n",
              "         [1.        ],\n",
              "         [1.        ],\n",
              "         [1.        ],\n",
              "         [1.        ],\n",
              "         [1.        ],\n",
              "         [1.        ],\n",
              "         [1.        ],\n",
              "         [1.        ],\n",
              "         [1.        ],\n",
              "         [1.        ],\n",
              "         [1.        ],\n",
              "         [1.        ],\n",
              "         [1.        ],\n",
              "         [1.        ],\n",
              "         [1.        ],\n",
              "         [1.        ],\n",
              "         [1.        ],\n",
              "         [1.        ]],\n",
              "\n",
              "        [[1.        ],\n",
              "         [1.        ],\n",
              "         [1.        ],\n",
              "         [1.        ],\n",
              "         [1.        ],\n",
              "         [1.        ],\n",
              "         [1.        ],\n",
              "         [1.        ],\n",
              "         [1.        ],\n",
              "         [1.        ],\n",
              "         [1.        ],\n",
              "         [1.        ],\n",
              "         [1.        ],\n",
              "         [1.        ],\n",
              "         [1.        ],\n",
              "         [1.        ],\n",
              "         [1.        ],\n",
              "         [1.        ],\n",
              "         [1.        ],\n",
              "         [1.        ],\n",
              "         [1.        ],\n",
              "         [1.        ],\n",
              "         [1.        ],\n",
              "         [1.        ],\n",
              "         [1.        ],\n",
              "         [1.        ],\n",
              "         [1.        ],\n",
              "         [1.        ]],\n",
              "\n",
              "        [[1.        ],\n",
              "         [1.        ],\n",
              "         [1.        ],\n",
              "         [1.        ],\n",
              "         [1.        ],\n",
              "         [1.        ],\n",
              "         [1.        ],\n",
              "         [1.        ],\n",
              "         [1.        ],\n",
              "         [1.        ],\n",
              "         [1.        ],\n",
              "         [1.        ],\n",
              "         [1.        ],\n",
              "         [1.        ],\n",
              "         [1.        ],\n",
              "         [1.        ],\n",
              "         [1.        ],\n",
              "         [1.        ],\n",
              "         [1.        ],\n",
              "         [1.        ],\n",
              "         [1.        ],\n",
              "         [1.        ],\n",
              "         [1.        ],\n",
              "         [1.        ],\n",
              "         [1.        ],\n",
              "         [1.        ],\n",
              "         [1.        ],\n",
              "         [1.        ]],\n",
              "\n",
              "        [[1.        ],\n",
              "         [1.        ],\n",
              "         [1.        ],\n",
              "         [1.        ],\n",
              "         [1.        ],\n",
              "         [1.        ],\n",
              "         [1.        ],\n",
              "         [1.        ],\n",
              "         [1.        ],\n",
              "         [1.        ],\n",
              "         [1.        ],\n",
              "         [1.        ],\n",
              "         [1.        ],\n",
              "         [1.        ],\n",
              "         [1.        ],\n",
              "         [1.        ],\n",
              "         [1.        ],\n",
              "         [1.        ],\n",
              "         [1.        ],\n",
              "         [1.        ],\n",
              "         [1.        ],\n",
              "         [1.        ],\n",
              "         [1.        ],\n",
              "         [1.        ],\n",
              "         [1.        ],\n",
              "         [1.        ],\n",
              "         [1.        ],\n",
              "         [1.        ]],\n",
              "\n",
              "        [[1.        ],\n",
              "         [1.        ],\n",
              "         [1.        ],\n",
              "         [1.        ],\n",
              "         [1.        ],\n",
              "         [1.        ],\n",
              "         [1.        ],\n",
              "         [1.        ],\n",
              "         [1.        ],\n",
              "         [1.        ],\n",
              "         [1.        ],\n",
              "         [1.        ],\n",
              "         [1.        ],\n",
              "         [1.        ],\n",
              "         [1.        ],\n",
              "         [1.        ],\n",
              "         [1.        ],\n",
              "         [1.        ],\n",
              "         [1.        ],\n",
              "         [1.        ],\n",
              "         [1.        ],\n",
              "         [1.        ],\n",
              "         [1.        ],\n",
              "         [1.        ],\n",
              "         [1.        ],\n",
              "         [1.        ],\n",
              "         [1.        ],\n",
              "         [1.        ]],\n",
              "\n",
              "        [[1.        ],\n",
              "         [1.        ],\n",
              "         [1.        ],\n",
              "         [1.        ],\n",
              "         [1.        ],\n",
              "         [1.        ],\n",
              "         [1.        ],\n",
              "         [1.        ],\n",
              "         [1.        ],\n",
              "         [1.        ],\n",
              "         [1.        ],\n",
              "         [1.        ],\n",
              "         [1.        ],\n",
              "         [1.        ],\n",
              "         [1.        ],\n",
              "         [1.        ],\n",
              "         [1.        ],\n",
              "         [1.        ],\n",
              "         [1.        ],\n",
              "         [1.        ],\n",
              "         [1.        ],\n",
              "         [1.        ],\n",
              "         [1.        ],\n",
              "         [1.        ],\n",
              "         [1.        ],\n",
              "         [1.        ],\n",
              "         [1.        ],\n",
              "         [1.        ]],\n",
              "\n",
              "        [[1.        ],\n",
              "         [1.        ],\n",
              "         [1.        ],\n",
              "         [1.        ],\n",
              "         [1.        ],\n",
              "         [1.        ],\n",
              "         [1.        ],\n",
              "         [1.        ],\n",
              "         [1.        ],\n",
              "         [1.        ],\n",
              "         [1.        ],\n",
              "         [1.        ],\n",
              "         [1.        ],\n",
              "         [1.        ],\n",
              "         [1.        ],\n",
              "         [1.        ],\n",
              "         [1.        ],\n",
              "         [1.        ],\n",
              "         [1.        ],\n",
              "         [1.        ],\n",
              "         [1.        ],\n",
              "         [1.        ],\n",
              "         [1.        ],\n",
              "         [1.        ],\n",
              "         [1.        ],\n",
              "         [1.        ],\n",
              "         [1.        ],\n",
              "         [1.        ]],\n",
              "\n",
              "        [[1.        ],\n",
              "         [1.        ],\n",
              "         [1.        ],\n",
              "         [1.        ],\n",
              "         [1.        ],\n",
              "         [1.        ],\n",
              "         [1.        ],\n",
              "         [1.        ],\n",
              "         [1.        ],\n",
              "         [1.        ],\n",
              "         [1.        ],\n",
              "         [1.        ],\n",
              "         [1.        ],\n",
              "         [1.        ],\n",
              "         [1.        ],\n",
              "         [1.        ],\n",
              "         [1.        ],\n",
              "         [1.        ],\n",
              "         [1.        ],\n",
              "         [1.        ],\n",
              "         [1.        ],\n",
              "         [1.        ],\n",
              "         [1.        ],\n",
              "         [1.        ],\n",
              "         [1.        ],\n",
              "         [1.        ],\n",
              "         [1.        ],\n",
              "         [1.        ]],\n",
              "\n",
              "        [[1.        ],\n",
              "         [1.        ],\n",
              "         [1.        ],\n",
              "         [1.        ],\n",
              "         [1.        ],\n",
              "         [1.        ],\n",
              "         [1.        ],\n",
              "         [1.        ],\n",
              "         [1.        ],\n",
              "         [1.        ],\n",
              "         [1.        ],\n",
              "         [1.        ],\n",
              "         [1.        ],\n",
              "         [1.        ],\n",
              "         [1.        ],\n",
              "         [1.        ],\n",
              "         [1.        ],\n",
              "         [1.        ],\n",
              "         [1.        ],\n",
              "         [1.        ],\n",
              "         [1.        ],\n",
              "         [1.        ],\n",
              "         [1.        ],\n",
              "         [1.        ],\n",
              "         [1.        ],\n",
              "         [1.        ],\n",
              "         [1.        ],\n",
              "         [1.        ]],\n",
              "\n",
              "        [[1.        ],\n",
              "         [1.        ],\n",
              "         [1.        ],\n",
              "         [1.        ],\n",
              "         [1.        ],\n",
              "         [1.        ],\n",
              "         [1.        ],\n",
              "         [1.        ],\n",
              "         [1.        ],\n",
              "         [1.        ],\n",
              "         [1.        ],\n",
              "         [1.        ],\n",
              "         [1.        ],\n",
              "         [1.        ],\n",
              "         [1.        ],\n",
              "         [1.        ],\n",
              "         [1.        ],\n",
              "         [1.        ],\n",
              "         [1.        ],\n",
              "         [1.        ],\n",
              "         [1.        ],\n",
              "         [1.        ],\n",
              "         [1.        ],\n",
              "         [1.        ],\n",
              "         [1.        ],\n",
              "         [1.        ],\n",
              "         [1.        ],\n",
              "         [1.        ]],\n",
              "\n",
              "        [[1.        ],\n",
              "         [1.        ],\n",
              "         [1.        ],\n",
              "         [1.        ],\n",
              "         [1.        ],\n",
              "         [1.        ],\n",
              "         [1.        ],\n",
              "         [1.        ],\n",
              "         [1.        ],\n",
              "         [1.        ],\n",
              "         [1.        ],\n",
              "         [1.        ],\n",
              "         [1.        ],\n",
              "         [1.        ],\n",
              "         [1.        ],\n",
              "         [1.        ],\n",
              "         [1.        ],\n",
              "         [1.        ],\n",
              "         [1.        ],\n",
              "         [1.        ],\n",
              "         [1.        ],\n",
              "         [1.        ],\n",
              "         [1.        ],\n",
              "         [1.        ],\n",
              "         [1.        ],\n",
              "         [1.        ],\n",
              "         [1.        ],\n",
              "         [1.        ]]]], dtype=float32)"
            ]
          },
          "metadata": {},
          "execution_count": 60
        }
      ]
    },
    {
      "cell_type": "code",
      "source": [
        "prob = model.predict(img_scl)\n",
        "prob"
      ],
      "metadata": {
        "colab": {
          "base_uri": "https://localhost:8080/"
        },
        "id": "61CjGsoO4Bnj",
        "outputId": "705c60c4-3708-4498-bc5f-f603047b4e14"
      },
      "execution_count": 61,
      "outputs": [
        {
          "output_type": "stream",
          "name": "stdout",
          "text": [
            "\u001b[1m1/1\u001b[0m \u001b[32m━━━━━━━━━━━━━━━━━━━━\u001b[0m\u001b[37m\u001b[0m \u001b[1m1s\u001b[0m 955ms/step\n"
          ]
        },
        {
          "output_type": "execute_result",
          "data": {
            "text/plain": [
              "array([[1.3678592e-02, 8.7469565e-03, 1.9560570e-02, 1.2869914e-02,\n",
              "        8.3360985e-02, 8.8704471e-03, 3.6104850e-02, 7.3614693e-01,\n",
              "        8.0433875e-02, 2.2682923e-04]], dtype=float32)"
            ]
          },
          "metadata": {},
          "execution_count": 61
        }
      ]
    },
    {
      "cell_type": "code",
      "source": [
        "np.max(prob)"
      ],
      "metadata": {
        "colab": {
          "base_uri": "https://localhost:8080/"
        },
        "id": "sOSn4rxj4mjW",
        "outputId": "2a7e9e20-514a-4ac7-a537-fb7f05552489"
      },
      "execution_count": 62,
      "outputs": [
        {
          "output_type": "execute_result",
          "data": {
            "text/plain": [
              "0.7361469"
            ]
          },
          "metadata": {},
          "execution_count": 62
        }
      ]
    },
    {
      "cell_type": "code",
      "source": [
        "pred = np.argmax(prob, axis=1)"
      ],
      "metadata": {
        "id": "JPgS9sh44p62"
      },
      "execution_count": 65,
      "outputs": []
    },
    {
      "cell_type": "code",
      "source": [
        "pred"
      ],
      "metadata": {
        "colab": {
          "base_uri": "https://localhost:8080/"
        },
        "id": "JHEQuuRC4vqj",
        "outputId": "ef9f0f0b-bb5f-4bee-8232-9873ab3f301e"
      },
      "execution_count": 66,
      "outputs": [
        {
          "output_type": "execute_result",
          "data": {
            "text/plain": [
              "array([7])"
            ]
          },
          "metadata": {},
          "execution_count": 66
        }
      ]
    },
    {
      "cell_type": "code",
      "source": [
        "def predict_digit(model, img_path):\n",
        "  img = cv2.imread(img_path, cv2.IMREAD_GRAYSCALE)\n",
        "  plt.imshow(img, cmap=\"gray\")\n",
        "  plt.show()\n",
        "  img_scl = img.astype(\"float32\")/255\n",
        "  img_scl = img.reshape(1, 28, 28, 1)\n",
        "  prob = model.predict(img_scl)\n",
        "  pred = np.argmax(prob, axis=1)\n",
        "  max_prob = np.max(prob, axis=1)\n",
        "  return pred, max_prob\n",
        ""
      ],
      "metadata": {
        "id": "9PE9CL6q4wKK"
      },
      "execution_count": 67,
      "outputs": []
    },
    {
      "cell_type": "code",
      "source": [
        "predict_digit(model, \"/content/img5.png\")"
      ],
      "metadata": {
        "colab": {
          "base_uri": "https://localhost:8080/",
          "height": 466
        },
        "id": "FuPPiAd-43UT",
        "outputId": "cd3d2c9e-812e-4dd5-e073-c547d97f1a8a"
      },
      "execution_count": 68,
      "outputs": [
        {
          "output_type": "display_data",
          "data": {
            "text/plain": [
              "<Figure size 640x480 with 1 Axes>"
            ],
            "image/png": "[encoded data removed]"
          },
          "metadata": {}
        },
        {
          "output_type": "stream",
          "name": "stdout",
          "text": [
            "\u001b[1m1/1\u001b[0m \u001b[32m━━━━━━━━━━━━━━━━━━━━\u001b[0m\u001b[37m\u001b[0m \u001b[1m1s\u001b[0m 592ms/step\n"
          ]
        },
        {
          "output_type": "execute_result",
          "data": {
            "text/plain": [
              "(array([2]), array([1.], dtype=float32))"
            ]
          },
          "metadata": {},
          "execution_count": 68
        }
      ]
    },
    {
      "cell_type": "code",
      "source": [
        "predict_digit(model, \"/content/img4.png\")"
      ],
      "metadata": {
        "colab": {
          "base_uri": "https://localhost:8080/",
          "height": 466
        },
        "id": "NBe3Hk2O5ZBo",
        "outputId": "55a81e27-2387-4dcd-9f49-20a58065da5d"
      },
      "execution_count": 69,
      "outputs": [
        {
          "output_type": "display_data",
          "data": {
            "text/plain": [
              "<Figure size 640x480 with 1 Axes>"
            ],
            "image/png": "[encoded data removed]"
          },
          "metadata": {}
        },
        {
          "output_type": "stream",
          "name": "stdout",
          "text": [
            "\u001b[1m1/1\u001b[0m \u001b[32m━━━━━━━━━━━━━━━━━━━━\u001b[0m\u001b[37m\u001b[0m \u001b[1m0s\u001b[0m 95ms/step\n"
          ]
        },
        {
          "output_type": "execute_result",
          "data": {
            "text/plain": [
              "(array([4]), array([1.], dtype=float32))"
            ]
          },
          "metadata": {},
          "execution_count": 69
        }
      ]
    },
    {
      "cell_type": "code",
      "source": [],
      "metadata": {
        "id": "1wTnVQpR6PVq"
      },
      "execution_count": null,
      "outputs": []
    }
  ]
}